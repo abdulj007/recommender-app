{
 "cells": [
  {
   "cell_type": "code",
   "execution_count": 4,
   "id": "2fddfdee",
   "metadata": {},
   "outputs": [],
   "source": [
    "import pandas as pd\n",
    "import numpy as np"
   ]
  },
  {
   "cell_type": "markdown",
   "id": "886ffdae",
   "metadata": {},
   "source": [
    "<h2>DATA COLLECTION</h2>"
   ]
  },
  {
   "cell_type": "code",
   "execution_count": 5,
   "id": "5590515d",
   "metadata": {},
   "outputs": [],
   "source": [
    "df_course = pd.read_csv(r'C:\\Users\\aa22788\\udemy course.csv',sep=';')\n",
    "df_review = pd.read_csv(r'C:\\Users\\aa22788\\udemy review.csv',sep=';')\n"
   ]
  },
  {
   "cell_type": "code",
   "execution_count": 6,
   "id": "7ba5c618",
   "metadata": {},
   "outputs": [
    {
     "data": {
      "text/html": [
       "<div>\n",
       "<style scoped>\n",
       "    .dataframe tbody tr th:only-of-type {\n",
       "        vertical-align: middle;\n",
       "    }\n",
       "\n",
       "    .dataframe tbody tr th {\n",
       "        vertical-align: top;\n",
       "    }\n",
       "\n",
       "    .dataframe thead th {\n",
       "        text-align: right;\n",
       "    }\n",
       "</style>\n",
       "<table border=\"1\" class=\"dataframe\">\n",
       "  <thead>\n",
       "    <tr style=\"text-align: right;\">\n",
       "      <th></th>\n",
       "      <th>course_id</th>\n",
       "      <th>course_name</th>\n",
       "      <th>subs</th>\n",
       "      <th>num_reviews</th>\n",
       "      <th>num_lectures</th>\n",
       "      <th>duration</th>\n",
       "      <th>last_update</th>\n",
       "      <th>publish_date</th>\n",
       "      <th>created_date</th>\n",
       "      <th>original_price</th>\n",
       "      <th>discount_price</th>\n",
       "      <th>level</th>\n",
       "      <th>label</th>\n",
       "    </tr>\n",
       "  </thead>\n",
       "  <tbody>\n",
       "    <tr>\n",
       "      <th>0</th>\n",
       "      <td>8082</td>\n",
       "      <td>Ruby Programming for Beginners</td>\n",
       "      <td>28445</td>\n",
       "      <td>643</td>\n",
       "      <td>56</td>\n",
       "      <td>6.0</td>\n",
       "      <td>21/08/2019 00:00</td>\n",
       "      <td>08/07/2011 21:32</td>\n",
       "      <td>14/06/2011 16:09</td>\n",
       "      <td>1050000</td>\n",
       "      <td>182000.0</td>\n",
       "      <td>All Levels</td>\n",
       "      <td>Ruby</td>\n",
       "    </tr>\n",
       "    <tr>\n",
       "      <th>1</th>\n",
       "      <td>8203</td>\n",
       "      <td>Basic and Advanced HTML Lessons</td>\n",
       "      <td>1550</td>\n",
       "      <td>12</td>\n",
       "      <td>15</td>\n",
       "      <td>1.0</td>\n",
       "      <td>10/07/2017 00:00</td>\n",
       "      <td>20/06/2011 17:48</td>\n",
       "      <td>20/06/2011 19:59</td>\n",
       "      <td>350000</td>\n",
       "      <td>182000.0</td>\n",
       "      <td>All Levels</td>\n",
       "      <td>HTML</td>\n",
       "    </tr>\n",
       "    <tr>\n",
       "      <th>2</th>\n",
       "      <td>8319</td>\n",
       "      <td>Git Basics: In Theory and Practice</td>\n",
       "      <td>291</td>\n",
       "      <td>12</td>\n",
       "      <td>31</td>\n",
       "      <td>7.5</td>\n",
       "      <td>NaN</td>\n",
       "      <td>29/07/2011 20:24</td>\n",
       "      <td>28/06/2011 04:48</td>\n",
       "      <td>280000</td>\n",
       "      <td>182000.0</td>\n",
       "      <td>All Levels</td>\n",
       "      <td>Git</td>\n",
       "    </tr>\n",
       "    <tr>\n",
       "      <th>3</th>\n",
       "      <td>8324</td>\n",
       "      <td>Javascript for Beginners</td>\n",
       "      <td>3840</td>\n",
       "      <td>258</td>\n",
       "      <td>48</td>\n",
       "      <td>3.0</td>\n",
       "      <td>16/07/2019 00:00</td>\n",
       "      <td>09/07/2011 05:43</td>\n",
       "      <td>28/06/2011 08:26</td>\n",
       "      <td>280000</td>\n",
       "      <td>182000.0</td>\n",
       "      <td>All Levels</td>\n",
       "      <td>JavaScript</td>\n",
       "    </tr>\n",
       "    <tr>\n",
       "      <th>4</th>\n",
       "      <td>8325</td>\n",
       "      <td>HTML Tutorial: HTML &amp; CSS for Beginners</td>\n",
       "      <td>12521</td>\n",
       "      <td>297</td>\n",
       "      <td>82</td>\n",
       "      <td>4.0</td>\n",
       "      <td>16/07/2019 00:00</td>\n",
       "      <td>09/09/2011 15:28</td>\n",
       "      <td>28/06/2011 08:27</td>\n",
       "      <td>280000</td>\n",
       "      <td>182000.0</td>\n",
       "      <td>All Levels</td>\n",
       "      <td>HTML</td>\n",
       "    </tr>\n",
       "  </tbody>\n",
       "</table>\n",
       "</div>"
      ],
      "text/plain": [
       "   course_id                              course_name   subs  num_reviews  \\\n",
       "0       8082           Ruby Programming for Beginners  28445          643   \n",
       "1       8203          Basic and Advanced HTML Lessons   1550           12   \n",
       "2       8319       Git Basics: In Theory and Practice    291           12   \n",
       "3       8324                 Javascript for Beginners   3840          258   \n",
       "4       8325  HTML Tutorial: HTML & CSS for Beginners  12521          297   \n",
       "\n",
       "   num_lectures  duration       last_update      publish_date  \\\n",
       "0            56       6.0  21/08/2019 00:00  08/07/2011 21:32   \n",
       "1            15       1.0  10/07/2017 00:00  20/06/2011 17:48   \n",
       "2            31       7.5               NaN  29/07/2011 20:24   \n",
       "3            48       3.0  16/07/2019 00:00  09/07/2011 05:43   \n",
       "4            82       4.0  16/07/2019 00:00  09/09/2011 15:28   \n",
       "\n",
       "       created_date  original_price  discount_price       level       label  \n",
       "0  14/06/2011 16:09         1050000        182000.0  All Levels        Ruby  \n",
       "1  20/06/2011 19:59          350000        182000.0  All Levels        HTML  \n",
       "2  28/06/2011 04:48          280000        182000.0  All Levels         Git  \n",
       "3  28/06/2011 08:26          280000        182000.0  All Levels  JavaScript  \n",
       "4  28/06/2011 08:27          280000        182000.0  All Levels        HTML  "
      ]
     },
     "execution_count": 6,
     "metadata": {},
     "output_type": "execute_result"
    }
   ],
   "source": [
    "df_course.head()"
   ]
  },
  {
   "cell_type": "code",
   "execution_count": 7,
   "id": "e2d1dfc0",
   "metadata": {},
   "outputs": [
    {
     "data": {
      "text/html": [
       "<div>\n",
       "<style scoped>\n",
       "    .dataframe tbody tr th:only-of-type {\n",
       "        vertical-align: middle;\n",
       "    }\n",
       "\n",
       "    .dataframe tbody tr th {\n",
       "        vertical-align: top;\n",
       "    }\n",
       "\n",
       "    .dataframe thead th {\n",
       "        text-align: right;\n",
       "    }\n",
       "</style>\n",
       "<table border=\"1\" class=\"dataframe\">\n",
       "  <thead>\n",
       "    <tr style=\"text-align: right;\">\n",
       "      <th></th>\n",
       "      <th>course_id</th>\n",
       "      <th>rating</th>\n",
       "      <th>review_content</th>\n",
       "      <th>date</th>\n",
       "    </tr>\n",
       "  </thead>\n",
       "  <tbody>\n",
       "    <tr>\n",
       "      <th>0</th>\n",
       "      <td>8082</td>\n",
       "      <td>4.5</td>\n",
       "      <td>Delivers more than expected. Thank you!</td>\n",
       "      <td>29/07/2019 11:19</td>\n",
       "    </tr>\n",
       "    <tr>\n",
       "      <th>1</th>\n",
       "      <td>8082</td>\n",
       "      <td>2.5</td>\n",
       "      <td>This course would be a good choice if 1) you a...</td>\n",
       "      <td>22/06/2019 11:25</td>\n",
       "    </tr>\n",
       "    <tr>\n",
       "      <th>2</th>\n",
       "      <td>8082</td>\n",
       "      <td>5.0</td>\n",
       "      <td>I am new to Ruby but have programmed in Python...</td>\n",
       "      <td>14/01/2019 12:40</td>\n",
       "    </tr>\n",
       "    <tr>\n",
       "      <th>3</th>\n",
       "      <td>8082</td>\n",
       "      <td>4.0</td>\n",
       "      <td>The instructor has provided quite a lot of inf...</td>\n",
       "      <td>04/12/2018 08:03</td>\n",
       "    </tr>\n",
       "    <tr>\n",
       "      <th>4</th>\n",
       "      <td>8082</td>\n",
       "      <td>5.0</td>\n",
       "      <td>Hare Kṛṣṇa, Hare Kṛṣṇa, Kṛṣṇa Kṛṣṇa, Hare Hare...</td>\n",
       "      <td>16/11/2018 19:12</td>\n",
       "    </tr>\n",
       "  </tbody>\n",
       "</table>\n",
       "</div>"
      ],
      "text/plain": [
       "   course_id  rating                                     review_content  \\\n",
       "0       8082     4.5            Delivers more than expected. Thank you!   \n",
       "1       8082     2.5  This course would be a good choice if 1) you a...   \n",
       "2       8082     5.0  I am new to Ruby but have programmed in Python...   \n",
       "3       8082     4.0  The instructor has provided quite a lot of inf...   \n",
       "4       8082     5.0  Hare Kṛṣṇa, Hare Kṛṣṇa, Kṛṣṇa Kṛṣṇa, Hare Hare...   \n",
       "\n",
       "               date  \n",
       "0  29/07/2019 11:19  \n",
       "1  22/06/2019 11:25  \n",
       "2  14/01/2019 12:40  \n",
       "3  04/12/2018 08:03  \n",
       "4  16/11/2018 19:12  "
      ]
     },
     "execution_count": 7,
     "metadata": {},
     "output_type": "execute_result"
    }
   ],
   "source": [
    "df_review.head()"
   ]
  },
  {
   "cell_type": "code",
   "execution_count": null,
   "id": "100d2ad7",
   "metadata": {},
   "outputs": [],
   "source": [
    "df"
   ]
  },
  {
   "cell_type": "markdown",
   "id": "1806c919",
   "metadata": {},
   "source": [
    "<h2>DATA CLEANING</h2>"
   ]
  },
  {
   "cell_type": "markdown",
   "id": "59f38cf8",
   "metadata": {},
   "source": [
    "1. Names are descriptive enough\n",
    "2. No duplicates in course dataset, 1 duplicate in review dataset\n",
    "3. Convert all date columns from object to datetime\n",
    "4. create publish year from published date"
   ]
  },
  {
   "cell_type": "code",
   "execution_count": 34,
   "id": "a36c1c0f",
   "metadata": {
    "scrolled": true
   },
   "outputs": [
    {
     "data": {
      "text/plain": [
       "course_id                 object\n",
       "course_name               object\n",
       "subs                       int64\n",
       "num_reviews                int64\n",
       "num_lectures               int64\n",
       "duration                 float64\n",
       "last_update       datetime64[ns]\n",
       "publish_date      datetime64[ns]\n",
       "created_date      datetime64[ns]\n",
       "original_price             int64\n",
       "discount_price           float64\n",
       "level                     object\n",
       "label                     object\n",
       "dtype: object"
      ]
     },
     "execution_count": 34,
     "metadata": {},
     "output_type": "execute_result"
    }
   ],
   "source": [
    "#check datatypes\n",
    "df_course.dtypes"
   ]
  },
  {
   "cell_type": "code",
   "execution_count": 26,
   "id": "3d92d2ca",
   "metadata": {
    "scrolled": true
   },
   "outputs": [
    {
     "data": {
      "text/plain": [
       "course_id           int64\n",
       "rating            float64\n",
       "review_content     object\n",
       "date               object\n",
       "dtype: object"
      ]
     },
     "execution_count": 26,
     "metadata": {},
     "output_type": "execute_result"
    }
   ],
   "source": [
    "df_review.dtypes"
   ]
  },
  {
   "cell_type": "markdown",
   "id": "054af90a",
   "metadata": {},
   "source": [
    "convert all dates column datatype from object to datetime, and course_id to object"
   ]
  },
  {
   "cell_type": "code",
   "execution_count": 32,
   "id": "249c4a37",
   "metadata": {},
   "outputs": [
    {
     "data": {
      "text/html": [
       "<div>\n",
       "<style scoped>\n",
       "    .dataframe tbody tr th:only-of-type {\n",
       "        vertical-align: middle;\n",
       "    }\n",
       "\n",
       "    .dataframe tbody tr th {\n",
       "        vertical-align: top;\n",
       "    }\n",
       "\n",
       "    .dataframe thead th {\n",
       "        text-align: right;\n",
       "    }\n",
       "</style>\n",
       "<table border=\"1\" class=\"dataframe\">\n",
       "  <thead>\n",
       "    <tr style=\"text-align: right;\">\n",
       "      <th></th>\n",
       "      <th>course_id</th>\n",
       "      <th>course_name</th>\n",
       "      <th>subs</th>\n",
       "      <th>num_reviews</th>\n",
       "      <th>num_lectures</th>\n",
       "      <th>duration</th>\n",
       "      <th>last_update</th>\n",
       "      <th>publish_date</th>\n",
       "      <th>created_date</th>\n",
       "      <th>original_price</th>\n",
       "      <th>discount_price</th>\n",
       "      <th>level</th>\n",
       "      <th>label</th>\n",
       "    </tr>\n",
       "  </thead>\n",
       "  <tbody>\n",
       "    <tr>\n",
       "      <th>0</th>\n",
       "      <td>8082</td>\n",
       "      <td>Ruby Programming for Beginners</td>\n",
       "      <td>28445</td>\n",
       "      <td>643</td>\n",
       "      <td>56</td>\n",
       "      <td>6.0</td>\n",
       "      <td>2019-08-21</td>\n",
       "      <td>2011-08-07 21:32:00</td>\n",
       "      <td>2011-06-14 16:09:00</td>\n",
       "      <td>1050000</td>\n",
       "      <td>182000.0</td>\n",
       "      <td>All Levels</td>\n",
       "      <td>Ruby</td>\n",
       "    </tr>\n",
       "  </tbody>\n",
       "</table>\n",
       "</div>"
      ],
      "text/plain": [
       "   course_id                     course_name   subs  num_reviews  \\\n",
       "0       8082  Ruby Programming for Beginners  28445          643   \n",
       "\n",
       "   num_lectures  duration last_update        publish_date        created_date  \\\n",
       "0            56       6.0  2019-08-21 2011-08-07 21:32:00 2011-06-14 16:09:00   \n",
       "\n",
       "   original_price  discount_price       level label  \n",
       "0         1050000        182000.0  All Levels  Ruby  "
      ]
     },
     "execution_count": 32,
     "metadata": {},
     "output_type": "execute_result"
    }
   ],
   "source": [
    "df_course.head(1)"
   ]
  },
  {
   "cell_type": "code",
   "execution_count": 31,
   "id": "f72e095d",
   "metadata": {},
   "outputs": [],
   "source": [
    "#convert date column to datetime\n",
    "df_course['last_update'] = pd.to_datetime(df_course['last_update'])\n",
    "df_course['publish_date'] = pd.to_datetime(df_course['publish_date'])\n",
    "df_course['created_date'] = pd.to_datetime(df_course['created_date'])\n",
    "df_review['date'] = pd.to_datetime(df_review['date'])\n"
   ]
  },
  {
   "cell_type": "code",
   "execution_count": 33,
   "id": "2e3776c1",
   "metadata": {},
   "outputs": [],
   "source": [
    "#convert course id from int to object. \n",
    "df_course['course_id'] = df_course['course_id'].apply(str)"
   ]
  },
  {
   "cell_type": "code",
   "execution_count": 18,
   "id": "30942076",
   "metadata": {
    "scrolled": true
   },
   "outputs": [
    {
     "data": {
      "text/plain": [
       "0"
      ]
     },
     "execution_count": 18,
     "metadata": {},
     "output_type": "execute_result"
    }
   ],
   "source": [
    "df_course.duplicated().sum()"
   ]
  },
  {
   "cell_type": "code",
   "execution_count": 23,
   "id": "55af1d96",
   "metadata": {},
   "outputs": [
    {
     "data": {
      "text/plain": [
       "0"
      ]
     },
     "execution_count": 23,
     "metadata": {},
     "output_type": "execute_result"
    }
   ],
   "source": [
    "# 1 duplicate\n",
    "df_review.duplicated().sum()"
   ]
  },
  {
   "cell_type": "code",
   "execution_count": 22,
   "id": "1d5e082e",
   "metadata": {},
   "outputs": [],
   "source": [
    "#drop the duplicates\n",
    "df_review.drop_duplicates(inplace=True)"
   ]
  },
  {
   "cell_type": "code",
   "execution_count": 10,
   "id": "9f9b0d93",
   "metadata": {},
   "outputs": [
    {
     "data": {
      "text/plain": [
       "(9243, 13)"
      ]
     },
     "execution_count": 10,
     "metadata": {},
     "output_type": "execute_result"
    }
   ],
   "source": [
    "df_course.shape"
   ]
  },
  {
   "cell_type": "code",
   "execution_count": 9,
   "id": "6af48f5b",
   "metadata": {},
   "outputs": [
    {
     "data": {
      "text/plain": [
       "(488758, 4)"
      ]
     },
     "execution_count": 9,
     "metadata": {},
     "output_type": "execute_result"
    }
   ],
   "source": [
    "df_review.shape"
   ]
  },
  {
   "cell_type": "code",
   "execution_count": 11,
   "id": "0195133b",
   "metadata": {
    "scrolled": false
   },
   "outputs": [
    {
     "data": {
      "text/html": [
       "<div>\n",
       "<style scoped>\n",
       "    .dataframe tbody tr th:only-of-type {\n",
       "        vertical-align: middle;\n",
       "    }\n",
       "\n",
       "    .dataframe tbody tr th {\n",
       "        vertical-align: top;\n",
       "    }\n",
       "\n",
       "    .dataframe thead th {\n",
       "        text-align: right;\n",
       "    }\n",
       "</style>\n",
       "<table border=\"1\" class=\"dataframe\">\n",
       "  <thead>\n",
       "    <tr style=\"text-align: right;\">\n",
       "      <th></th>\n",
       "      <th>course_id</th>\n",
       "      <th>course_name</th>\n",
       "      <th>subs</th>\n",
       "      <th>num_reviews</th>\n",
       "      <th>num_lectures</th>\n",
       "      <th>duration</th>\n",
       "      <th>last_update</th>\n",
       "      <th>publish_date</th>\n",
       "      <th>created_date</th>\n",
       "      <th>original_price</th>\n",
       "      <th>discount_price</th>\n",
       "      <th>level</th>\n",
       "      <th>label</th>\n",
       "    </tr>\n",
       "  </thead>\n",
       "  <tbody>\n",
       "    <tr>\n",
       "      <th>6686</th>\n",
       "      <td>1741694</td>\n",
       "      <td>Chatbot Boom -Learn Facebook Messenger Marketi...</td>\n",
       "      <td>282</td>\n",
       "      <td>7</td>\n",
       "      <td>19</td>\n",
       "      <td>1.5</td>\n",
       "      <td>23/09/2018 00:00</td>\n",
       "      <td>18/09/2018 01:25</td>\n",
       "      <td>10/06/2018 20:22</td>\n",
       "      <td>2800000</td>\n",
       "      <td>182000.0</td>\n",
       "      <td>All Levels</td>\n",
       "      <td>Chatbot</td>\n",
       "    </tr>\n",
       "    <tr>\n",
       "      <th>1318</th>\n",
       "      <td>533396</td>\n",
       "      <td>A Complete Introduction to the C++ Programming...</td>\n",
       "      <td>1189</td>\n",
       "      <td>90</td>\n",
       "      <td>67</td>\n",
       "      <td>3.0</td>\n",
       "      <td>09/09/2015 00:00</td>\n",
       "      <td>09/09/2015 17:49</td>\n",
       "      <td>21/06/2015 10:11</td>\n",
       "      <td>700000</td>\n",
       "      <td>182000.0</td>\n",
       "      <td>All Levels</td>\n",
       "      <td>C++</td>\n",
       "    </tr>\n",
       "    <tr>\n",
       "      <th>2617</th>\n",
       "      <td>893616</td>\n",
       "      <td>Latest CMS Blog,Freelancing Services Template ...</td>\n",
       "      <td>251</td>\n",
       "      <td>33</td>\n",
       "      <td>302</td>\n",
       "      <td>55.5</td>\n",
       "      <td>20/12/2017 00:00</td>\n",
       "      <td>04/07/2016 22:11</td>\n",
       "      <td>01/07/2016 12:14</td>\n",
       "      <td>700000</td>\n",
       "      <td>182000.0</td>\n",
       "      <td>All Levels</td>\n",
       "      <td>PHP</td>\n",
       "    </tr>\n",
       "    <tr>\n",
       "      <th>8389</th>\n",
       "      <td>2231162</td>\n",
       "      <td>Spring Boot: Learn Spring Boot From Scratch</td>\n",
       "      <td>103</td>\n",
       "      <td>20</td>\n",
       "      <td>43</td>\n",
       "      <td>4.0</td>\n",
       "      <td>27/03/2019 00:00</td>\n",
       "      <td>29/03/2019 19:41</td>\n",
       "      <td>20/02/2019 15:28</td>\n",
       "      <td>2800000</td>\n",
       "      <td>182000.0</td>\n",
       "      <td>All Levels</td>\n",
       "      <td>Spring Boot</td>\n",
       "    </tr>\n",
       "    <tr>\n",
       "      <th>135</th>\n",
       "      <td>49340</td>\n",
       "      <td>The Ultimate Java 9 Tutorial - From beginner t...</td>\n",
       "      <td>5008</td>\n",
       "      <td>92</td>\n",
       "      <td>236</td>\n",
       "      <td>25.0</td>\n",
       "      <td>09/01/2018 00:00</td>\n",
       "      <td>02/05/2013 09:18</td>\n",
       "      <td>11/04/2013 08:12</td>\n",
       "      <td>280000</td>\n",
       "      <td>182000.0</td>\n",
       "      <td>All Levels</td>\n",
       "      <td>Java</td>\n",
       "    </tr>\n",
       "    <tr>\n",
       "      <th>6107</th>\n",
       "      <td>1615936</td>\n",
       "      <td>Master the JavaScript Interview</td>\n",
       "      <td>208</td>\n",
       "      <td>35</td>\n",
       "      <td>37</td>\n",
       "      <td>3.5</td>\n",
       "      <td>26/11/2018 00:00</td>\n",
       "      <td>09/05/2018 20:26</td>\n",
       "      <td>25/03/2018 22:21</td>\n",
       "      <td>630000</td>\n",
       "      <td>182000.0</td>\n",
       "      <td>All Levels</td>\n",
       "      <td>JavaScript</td>\n",
       "    </tr>\n",
       "  </tbody>\n",
       "</table>\n",
       "</div>"
      ],
      "text/plain": [
       "      course_id                                        course_name  subs  \\\n",
       "6686    1741694  Chatbot Boom -Learn Facebook Messenger Marketi...   282   \n",
       "1318     533396  A Complete Introduction to the C++ Programming...  1189   \n",
       "2617     893616  Latest CMS Blog,Freelancing Services Template ...   251   \n",
       "8389    2231162        Spring Boot: Learn Spring Boot From Scratch   103   \n",
       "135       49340  The Ultimate Java 9 Tutorial - From beginner t...  5008   \n",
       "6107    1615936                    Master the JavaScript Interview   208   \n",
       "\n",
       "      num_reviews  num_lectures  duration       last_update      publish_date  \\\n",
       "6686            7            19       1.5  23/09/2018 00:00  18/09/2018 01:25   \n",
       "1318           90            67       3.0  09/09/2015 00:00  09/09/2015 17:49   \n",
       "2617           33           302      55.5  20/12/2017 00:00  04/07/2016 22:11   \n",
       "8389           20            43       4.0  27/03/2019 00:00  29/03/2019 19:41   \n",
       "135            92           236      25.0  09/01/2018 00:00  02/05/2013 09:18   \n",
       "6107           35            37       3.5  26/11/2018 00:00  09/05/2018 20:26   \n",
       "\n",
       "          created_date  original_price  discount_price       level  \\\n",
       "6686  10/06/2018 20:22         2800000        182000.0  All Levels   \n",
       "1318  21/06/2015 10:11          700000        182000.0  All Levels   \n",
       "2617  01/07/2016 12:14          700000        182000.0  All Levels   \n",
       "8389  20/02/2019 15:28         2800000        182000.0  All Levels   \n",
       "135   11/04/2013 08:12          280000        182000.0  All Levels   \n",
       "6107  25/03/2018 22:21          630000        182000.0  All Levels   \n",
       "\n",
       "            label  \n",
       "6686      Chatbot  \n",
       "1318          C++  \n",
       "2617          PHP  \n",
       "8389  Spring Boot  \n",
       "135          Java  \n",
       "6107   JavaScript  "
      ]
     },
     "execution_count": 11,
     "metadata": {},
     "output_type": "execute_result"
    }
   ],
   "source": [
    "df_course.sample(6)"
   ]
  },
  {
   "cell_type": "markdown",
   "id": "03914d9b",
   "metadata": {},
   "source": [
    "There are non english stuff. We'll revisit "
   ]
  },
  {
   "cell_type": "code",
   "execution_count": 16,
   "id": "508e44f3",
   "metadata": {
    "scrolled": true
   },
   "outputs": [
    {
     "data": {
      "text/html": [
       "<div>\n",
       "<style scoped>\n",
       "    .dataframe tbody tr th:only-of-type {\n",
       "        vertical-align: middle;\n",
       "    }\n",
       "\n",
       "    .dataframe tbody tr th {\n",
       "        vertical-align: top;\n",
       "    }\n",
       "\n",
       "    .dataframe thead th {\n",
       "        text-align: right;\n",
       "    }\n",
       "</style>\n",
       "<table border=\"1\" class=\"dataframe\">\n",
       "  <thead>\n",
       "    <tr style=\"text-align: right;\">\n",
       "      <th></th>\n",
       "      <th>course_id</th>\n",
       "      <th>rating</th>\n",
       "      <th>review_content</th>\n",
       "      <th>date</th>\n",
       "    </tr>\n",
       "  </thead>\n",
       "  <tbody>\n",
       "    <tr>\n",
       "      <th>69395</th>\n",
       "      <td>375054</td>\n",
       "      <td>1.0</td>\n",
       "      <td>This course was pulled from a webinar.  There ...</td>\n",
       "      <td>18/03/2016 12:13</td>\n",
       "    </tr>\n",
       "    <tr>\n",
       "      <th>474134</th>\n",
       "      <td>2056529</td>\n",
       "      <td>4.0</td>\n",
       "      <td>Slow and steady. Great job with explaining ste...</td>\n",
       "      <td>15/01/2019 21:58</td>\n",
       "    </tr>\n",
       "    <tr>\n",
       "      <th>366373</th>\n",
       "      <td>1329100</td>\n",
       "      <td>4.0</td>\n",
       "      <td>Bonne présentation!</td>\n",
       "      <td>12/09/2017 07:58</td>\n",
       "    </tr>\n",
       "    <tr>\n",
       "      <th>280625</th>\n",
       "      <td>1039062</td>\n",
       "      <td>5.0</td>\n",
       "      <td>good stuff</td>\n",
       "      <td>28/11/2017 11:19</td>\n",
       "    </tr>\n",
       "    <tr>\n",
       "      <th>125151</th>\n",
       "      <td>592594</td>\n",
       "      <td>1.5</td>\n",
       "      <td>good content but i would expect way more for t...</td>\n",
       "      <td>15/03/2018 10:30</td>\n",
       "    </tr>\n",
       "    <tr>\n",
       "      <th>371651</th>\n",
       "      <td>1344518</td>\n",
       "      <td>5.0</td>\n",
       "      <td>enjoy in course</td>\n",
       "      <td>14/09/2017 01:44</td>\n",
       "    </tr>\n",
       "  </tbody>\n",
       "</table>\n",
       "</div>"
      ],
      "text/plain": [
       "        course_id  rating                                     review_content  \\\n",
       "69395      375054     1.0  This course was pulled from a webinar.  There ...   \n",
       "474134    2056529     4.0  Slow and steady. Great job with explaining ste...   \n",
       "366373    1329100     4.0                                Bonne présentation!   \n",
       "280625    1039062     5.0                                         good stuff   \n",
       "125151     592594     1.5  good content but i would expect way more for t...   \n",
       "371651    1344518     5.0                                    enjoy in course   \n",
       "\n",
       "                    date  \n",
       "69395   18/03/2016 12:13  \n",
       "474134  15/01/2019 21:58  \n",
       "366373  12/09/2017 07:58  \n",
       "280625  28/11/2017 11:19  \n",
       "125151  15/03/2018 10:30  \n",
       "371651  14/09/2017 01:44  "
      ]
     },
     "execution_count": 16,
     "metadata": {},
     "output_type": "execute_result"
    }
   ],
   "source": [
    "df_review.sample(6)"
   ]
  },
  {
   "cell_type": "code",
   "execution_count": 24,
   "id": "7585ee33",
   "metadata": {},
   "outputs": [
    {
     "data": {
      "text/html": [
       "<div>\n",
       "<style scoped>\n",
       "    .dataframe tbody tr th:only-of-type {\n",
       "        vertical-align: middle;\n",
       "    }\n",
       "\n",
       "    .dataframe tbody tr th {\n",
       "        vertical-align: top;\n",
       "    }\n",
       "\n",
       "    .dataframe thead th {\n",
       "        text-align: right;\n",
       "    }\n",
       "</style>\n",
       "<table border=\"1\" class=\"dataframe\">\n",
       "  <thead>\n",
       "    <tr style=\"text-align: right;\">\n",
       "      <th></th>\n",
       "      <th>course_id</th>\n",
       "      <th>course_name</th>\n",
       "      <th>subs</th>\n",
       "      <th>num_reviews</th>\n",
       "      <th>num_lectures</th>\n",
       "      <th>duration</th>\n",
       "      <th>last_update</th>\n",
       "      <th>publish_date</th>\n",
       "      <th>created_date</th>\n",
       "      <th>original_price</th>\n",
       "      <th>discount_price</th>\n",
       "      <th>level</th>\n",
       "      <th>label</th>\n",
       "    </tr>\n",
       "  </thead>\n",
       "  <tbody>\n",
       "    <tr>\n",
       "      <th>0</th>\n",
       "      <td>8082</td>\n",
       "      <td>Ruby Programming for Beginners</td>\n",
       "      <td>28445</td>\n",
       "      <td>643</td>\n",
       "      <td>56</td>\n",
       "      <td>6.0</td>\n",
       "      <td>21/08/2019 00:00</td>\n",
       "      <td>08/07/2011 21:32</td>\n",
       "      <td>14/06/2011 16:09</td>\n",
       "      <td>1050000</td>\n",
       "      <td>182000.0</td>\n",
       "      <td>All Levels</td>\n",
       "      <td>Ruby</td>\n",
       "    </tr>\n",
       "    <tr>\n",
       "      <th>1</th>\n",
       "      <td>8203</td>\n",
       "      <td>Basic and Advanced HTML Lessons</td>\n",
       "      <td>1550</td>\n",
       "      <td>12</td>\n",
       "      <td>15</td>\n",
       "      <td>1.0</td>\n",
       "      <td>10/07/2017 00:00</td>\n",
       "      <td>20/06/2011 17:48</td>\n",
       "      <td>20/06/2011 19:59</td>\n",
       "      <td>350000</td>\n",
       "      <td>182000.0</td>\n",
       "      <td>All Levels</td>\n",
       "      <td>HTML</td>\n",
       "    </tr>\n",
       "  </tbody>\n",
       "</table>\n",
       "</div>"
      ],
      "text/plain": [
       "   course_id                      course_name   subs  num_reviews  \\\n",
       "0       8082   Ruby Programming for Beginners  28445          643   \n",
       "1       8203  Basic and Advanced HTML Lessons   1550           12   \n",
       "\n",
       "   num_lectures  duration       last_update      publish_date  \\\n",
       "0            56       6.0  21/08/2019 00:00  08/07/2011 21:32   \n",
       "1            15       1.0  10/07/2017 00:00  20/06/2011 17:48   \n",
       "\n",
       "       created_date  original_price  discount_price       level label  \n",
       "0  14/06/2011 16:09         1050000        182000.0  All Levels  Ruby  \n",
       "1  20/06/2011 19:59          350000        182000.0  All Levels  HTML  "
      ]
     },
     "execution_count": 24,
     "metadata": {},
     "output_type": "execute_result"
    }
   ],
   "source": [
    "df_course.head(2)"
   ]
  },
  {
   "cell_type": "markdown",
   "id": "49500a96",
   "metadata": {},
   "source": [
    "<h2>DATA ANALYSIS</h2>"
   ]
  },
  {
   "cell_type": "markdown",
   "id": "f24c50aa",
   "metadata": {},
   "source": [
    "1. Courses with the highest number of reviews\n",
    "2. Do higher ratings correlate with: course duration, number of lectures, original_price, discount_price, level?\n",
    "3. Correlation between frequently updated courses and average ratings\n",
    "4. words associated with good reviews"
   ]
  },
  {
   "cell_type": "markdown",
   "id": "349e92e1",
   "metadata": {},
   "source": [
    " wHAT TYPE OF RECOMMENDER SYSTEM DO WE USE?"
   ]
  },
  {
   "cell_type": "markdown",
   "id": "2aa4868b",
   "metadata": {},
   "source": [
    "Most popular courses reviewed"
   ]
  },
  {
   "cell_type": "code",
   "execution_count": 38,
   "id": "b647bea1",
   "metadata": {
    "scrolled": true
   },
   "outputs": [
    {
     "data": {
      "text/html": [
       "<div>\n",
       "<style scoped>\n",
       "    .dataframe tbody tr th:only-of-type {\n",
       "        vertical-align: middle;\n",
       "    }\n",
       "\n",
       "    .dataframe tbody tr th {\n",
       "        vertical-align: top;\n",
       "    }\n",
       "\n",
       "    .dataframe thead th {\n",
       "        text-align: right;\n",
       "    }\n",
       "</style>\n",
       "<table border=\"1\" class=\"dataframe\">\n",
       "  <thead>\n",
       "    <tr style=\"text-align: right;\">\n",
       "      <th></th>\n",
       "      <th>course_id</th>\n",
       "      <th>course_name</th>\n",
       "      <th>subs</th>\n",
       "      <th>num_reviews</th>\n",
       "      <th>num_lectures</th>\n",
       "      <th>duration</th>\n",
       "      <th>last_update</th>\n",
       "      <th>publish_date</th>\n",
       "      <th>created_date</th>\n",
       "      <th>original_price</th>\n",
       "      <th>discount_price</th>\n",
       "      <th>level</th>\n",
       "      <th>label</th>\n",
       "    </tr>\n",
       "  </thead>\n",
       "  <tbody>\n",
       "    <tr>\n",
       "      <th>0</th>\n",
       "      <td>567828</td>\n",
       "      <td>Complete Python Bootcamp: Go from zero to hero...</td>\n",
       "      <td>685057</td>\n",
       "      <td>186085</td>\n",
       "      <td>186</td>\n",
       "      <td>24.0</td>\n",
       "      <td>2019-04-09</td>\n",
       "      <td>2015-12-10 21:42:00</td>\n",
       "      <td>2015-07-29 00:12:00</td>\n",
       "      <td>2730000</td>\n",
       "      <td>182000.0</td>\n",
       "      <td>All Levels</td>\n",
       "      <td>Python</td>\n",
       "    </tr>\n",
       "    <tr>\n",
       "      <th>1</th>\n",
       "      <td>625204</td>\n",
       "      <td>The Web Developer Bootcamp</td>\n",
       "      <td>460682</td>\n",
       "      <td>135796</td>\n",
       "      <td>399</td>\n",
       "      <td>47.0</td>\n",
       "      <td>2019-05-09</td>\n",
       "      <td>2015-02-11 21:13:00</td>\n",
       "      <td>2015-09-28 21:32:00</td>\n",
       "      <td>2800000</td>\n",
       "      <td>182000.0</td>\n",
       "      <td>All Levels</td>\n",
       "      <td>Web Development</td>\n",
       "    </tr>\n",
       "    <tr>\n",
       "      <th>2</th>\n",
       "      <td>533682</td>\n",
       "      <td>Java Programming Masterclass for Software Deve...</td>\n",
       "      <td>357090</td>\n",
       "      <td>83454</td>\n",
       "      <td>392</td>\n",
       "      <td>79.0</td>\n",
       "      <td>2019-08-22</td>\n",
       "      <td>2015-07-21 22:01:00</td>\n",
       "      <td>2015-06-21 20:25:00</td>\n",
       "      <td>2100000</td>\n",
       "      <td>182000.0</td>\n",
       "      <td>All Levels</td>\n",
       "      <td>Java</td>\n",
       "    </tr>\n",
       "    <tr>\n",
       "      <th>3</th>\n",
       "      <td>41295</td>\n",
       "      <td>Learn HTML5 Programming From Scratch</td>\n",
       "      <td>316033</td>\n",
       "      <td>13294</td>\n",
       "      <td>46</td>\n",
       "      <td>10.5</td>\n",
       "      <td>2018-11-26</td>\n",
       "      <td>2013-02-14 07:03:00</td>\n",
       "      <td>2013-12-02 09:25:00</td>\n",
       "      <td>280000</td>\n",
       "      <td>182000.0</td>\n",
       "      <td>All Levels</td>\n",
       "      <td>HTML5</td>\n",
       "    </tr>\n",
       "    <tr>\n",
       "      <th>4</th>\n",
       "      <td>258316</td>\n",
       "      <td>Complete C# Unity Developer 2D: Learn to Code ...</td>\n",
       "      <td>315197</td>\n",
       "      <td>63783</td>\n",
       "      <td>221</td>\n",
       "      <td>35.0</td>\n",
       "      <td>2019-09-14</td>\n",
       "      <td>2014-03-09 19:30:00</td>\n",
       "      <td>2014-09-07 19:17:00</td>\n",
       "      <td>2730000</td>\n",
       "      <td>182000.0</td>\n",
       "      <td>All Levels</td>\n",
       "      <td>Unity</td>\n",
       "    </tr>\n",
       "  </tbody>\n",
       "</table>\n",
       "</div>"
      ],
      "text/plain": [
       "  course_id                                        course_name    subs  \\\n",
       "0    567828  Complete Python Bootcamp: Go from zero to hero...  685057   \n",
       "1    625204                         The Web Developer Bootcamp  460682   \n",
       "2    533682  Java Programming Masterclass for Software Deve...  357090   \n",
       "3     41295               Learn HTML5 Programming From Scratch  316033   \n",
       "4    258316  Complete C# Unity Developer 2D: Learn to Code ...  315197   \n",
       "\n",
       "   num_reviews  num_lectures  duration last_update        publish_date  \\\n",
       "0       186085           186      24.0  2019-04-09 2015-12-10 21:42:00   \n",
       "1       135796           399      47.0  2019-05-09 2015-02-11 21:13:00   \n",
       "2        83454           392      79.0  2019-08-22 2015-07-21 22:01:00   \n",
       "3        13294            46      10.5  2018-11-26 2013-02-14 07:03:00   \n",
       "4        63783           221      35.0  2019-09-14 2014-03-09 19:30:00   \n",
       "\n",
       "         created_date  original_price  discount_price       level  \\\n",
       "0 2015-07-29 00:12:00         2730000        182000.0  All Levels   \n",
       "1 2015-09-28 21:32:00         2800000        182000.0  All Levels   \n",
       "2 2015-06-21 20:25:00         2100000        182000.0  All Levels   \n",
       "3 2013-12-02 09:25:00          280000        182000.0  All Levels   \n",
       "4 2014-09-07 19:17:00         2730000        182000.0  All Levels   \n",
       "\n",
       "             label  \n",
       "0           Python  \n",
       "1  Web Development  \n",
       "2             Java  \n",
       "3            HTML5  \n",
       "4            Unity  "
      ]
     },
     "execution_count": 38,
     "metadata": {},
     "output_type": "execute_result"
    }
   ],
   "source": [
    "df_courseCopy = df_course.copy()\n",
    "df_courseCopy.sort_values(by='subs',ascending = False,inplace=True )\n",
    "df_courseCopy.reset_index(inplace=True,drop =True)\n",
    "df_courseCopy.head()"
   ]
  },
  {
   "cell_type": "markdown",
   "id": "6d468672",
   "metadata": {},
   "source": [
    "Most popular 'label' according to number of subscribers"
   ]
  },
  {
   "cell_type": "code",
   "execution_count": 51,
   "id": "91ead84e",
   "metadata": {},
   "outputs": [
    {
     "ename": "AttributeError",
     "evalue": "'SeriesGroupBy' object has no attribute 'reset_index'",
     "output_type": "error",
     "traceback": [
      "\u001b[1;31m---------------------------------------------------------------------------\u001b[0m",
      "\u001b[1;31mAttributeError\u001b[0m                            Traceback (most recent call last)",
      "Input \u001b[1;32mIn [51]\u001b[0m, in \u001b[0;36m<cell line: 4>\u001b[1;34m()\u001b[0m\n\u001b[0;32m      2\u001b[0m df_labelCat \u001b[38;5;241m=\u001b[39m df_courseCopy\u001b[38;5;241m.\u001b[39mgroupby([\u001b[38;5;124m'\u001b[39m\u001b[38;5;124mlabel\u001b[39m\u001b[38;5;124m'\u001b[39m,\u001b[38;5;124m'\u001b[39m\u001b[38;5;124msubs\u001b[39m\u001b[38;5;124m'\u001b[39m,\u001b[38;5;124m'\u001b[39m\u001b[38;5;124mcourse_name\u001b[39m\u001b[38;5;124m'\u001b[39m])[\u001b[38;5;124m'\u001b[39m\u001b[38;5;124msubs\u001b[39m\u001b[38;5;124m'\u001b[39m]\u001b[38;5;241m.\u001b[39msum()\u001b[38;5;241m.\u001b[39mgroupby(level \u001b[38;5;241m=\u001b[39m \u001b[38;5;124m'\u001b[39m\u001b[38;5;124mlabel\u001b[39m\u001b[38;5;124m'\u001b[39m)\n\u001b[0;32m      3\u001b[0m \u001b[38;5;66;03m# df_labelCat.to_frame()\u001b[39;00m\n\u001b[1;32m----> 4\u001b[0m \u001b[43mdf_labelCat\u001b[49m\u001b[38;5;241;43m.\u001b[39;49m\u001b[43mreset_index\u001b[49m(level\u001b[38;5;241m=\u001b[39m\u001b[38;5;241m0\u001b[39m, drop\u001b[38;5;241m=\u001b[39m\u001b[38;5;28;01mTrue\u001b[39;00m,inplACE\u001b[38;5;241m=\u001b[39m\u001b[38;5;28;01mTrue\u001b[39;00m)\n\u001b[0;32m      5\u001b[0m \u001b[38;5;66;03m# df_labelCat = df_labelCat.to_frame()\u001b[39;00m\n\u001b[0;32m      6\u001b[0m \u001b[38;5;66;03m# df_labelCat.sort_values(by='subs', ascending = False, inplace=True)\u001b[39;00m\n\u001b[0;32m      7\u001b[0m \u001b[38;5;66;03m# df_labelCat.reset_index(inplace=True)\u001b[39;00m\n\u001b[0;32m      8\u001b[0m \u001b[38;5;66;03m# # df_courseCopy.sort_values(by='num_reviews',ascending = False,inplace=True )\u001b[39;00m\n\u001b[0;32m      9\u001b[0m \u001b[38;5;66;03m# # df_courseCopy.reset_index(inplace=True,drop =True)\u001b[39;00m\n\u001b[0;32m     10\u001b[0m \u001b[38;5;66;03m# # df_courseCopy.head()\u001b[39;00m\n\u001b[0;32m     11\u001b[0m \u001b[38;5;28mtype\u001b[39m(df_labelCat)\n",
      "File \u001b[1;32mC:\\ProgramData\\Anaconda3\\lib\\site-packages\\pandas\\core\\groupby\\groupby.py:904\u001b[0m, in \u001b[0;36mGroupBy.__getattr__\u001b[1;34m(self, attr)\u001b[0m\n\u001b[0;32m    901\u001b[0m \u001b[38;5;28;01mif\u001b[39;00m attr \u001b[38;5;129;01min\u001b[39;00m \u001b[38;5;28mself\u001b[39m\u001b[38;5;241m.\u001b[39mobj:\n\u001b[0;32m    902\u001b[0m     \u001b[38;5;28;01mreturn\u001b[39;00m \u001b[38;5;28mself\u001b[39m[attr]\n\u001b[1;32m--> 904\u001b[0m \u001b[38;5;28;01mraise\u001b[39;00m \u001b[38;5;167;01mAttributeError\u001b[39;00m(\n\u001b[0;32m    905\u001b[0m     \u001b[38;5;124mf\u001b[39m\u001b[38;5;124m\"\u001b[39m\u001b[38;5;124m'\u001b[39m\u001b[38;5;132;01m{\u001b[39;00m\u001b[38;5;28mtype\u001b[39m(\u001b[38;5;28mself\u001b[39m)\u001b[38;5;241m.\u001b[39m\u001b[38;5;18m__name__\u001b[39m\u001b[38;5;132;01m}\u001b[39;00m\u001b[38;5;124m'\u001b[39m\u001b[38;5;124m object has no attribute \u001b[39m\u001b[38;5;124m'\u001b[39m\u001b[38;5;132;01m{\u001b[39;00mattr\u001b[38;5;132;01m}\u001b[39;00m\u001b[38;5;124m'\u001b[39m\u001b[38;5;124m\"\u001b[39m\n\u001b[0;32m    906\u001b[0m )\n",
      "\u001b[1;31mAttributeError\u001b[0m: 'SeriesGroupBy' object has no attribute 'reset_index'"
     ]
    }
   ],
   "source": [
    "df_courseCopy = df_course.copy()\n",
    "df_labelCat = df_courseCopy.groupby(['label'],as_index=False)['subs'].sum()\n",
    "# df_labelCat.to_frame()\n",
    "df_labelCat.reset_index(level=0, drop=True,inplACE=True)\n",
    "# df_labelCat = df_labelCat.to_frame()\n",
    "# df_labelCat.sort_values(by='subs', ascending = False, inplace=True)\n",
    "# df_labelCat.reset_index(inplace=True)\n",
    "# # df_courseCopy.sort_values(by='num_reviews',ascending = False,inplace=True )\n",
    "# # df_courseCopy.reset_index(inplace=True,drop =True)\n",
    "# # df_courseCopy.head()\n",
    "type(df_labelCat)"
   ]
  },
  {
   "cell_type": "markdown",
   "id": "a8ae7255",
   "metadata": {},
   "source": [
    "we use label instead of  'category' because users are quite specific on the topic they'd like to learn\n"
   ]
  },
  {
   "cell_type": "code",
   "execution_count": null,
   "id": "6b98f3b9",
   "metadata": {},
   "outputs": [],
   "source": [
    "#words"
   ]
  },
  {
   "cell_type": "code",
   "execution_count": null,
   "id": "fffce712",
   "metadata": {},
   "outputs": [],
   "source": [
    "df_course['publish_date']"
   ]
  },
  {
   "cell_type": "markdown",
   "id": "f757876e",
   "metadata": {},
   "source": [
    "<h2>RECOMMENDATION SYSTEM</h2>\n",
    "How to build a recommendation system via title and review sentiment using similarity. "
   ]
  },
  {
   "cell_type": "code",
   "execution_count": null,
   "id": "ae068f99",
   "metadata": {},
   "outputs": [],
   "source": []
  }
 ],
 "metadata": {
  "kernelspec": {
   "display_name": "Python 3 (ipykernel)",
   "language": "python",
   "name": "python3"
  },
  "language_info": {
   "codemirror_mode": {
    "name": "ipython",
    "version": 3
   },
   "file_extension": ".py",
   "mimetype": "text/x-python",
   "name": "python",
   "nbconvert_exporter": "python",
   "pygments_lexer": "ipython3",
   "version": "3.9.12"
  }
 },
 "nbformat": 4,
 "nbformat_minor": 5
}
