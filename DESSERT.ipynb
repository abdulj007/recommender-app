{
 "cells": [
  {
   "cell_type": "code",
   "execution_count": 1,
   "id": "711118b3",
   "metadata": {},
   "outputs": [],
   "source": [
    "# !pip install rake_nltk\n",
    "# !pip install neattext\n",
    "# nltk.download('stopwords') \n",
    "# Add courses that haven't been interacted with? using input()? "
   ]
  },
  {
   "cell_type": "code",
   "execution_count": 51,
   "id": "06a1e454",
   "metadata": {},
   "outputs": [
    {
     "name": "stderr",
     "output_type": "stream",
     "text": [
      "[nltk_data] Downloading package stopwords to\n",
      "[nltk_data]     C:\\Users\\abdul\\AppData\\Roaming\\nltk_data...\n",
      "[nltk_data]   Package stopwords is already up-to-date!\n"
     ]
    }
   ],
   "source": [
    "import pandas as pd\n",
    "import numpy as np\n",
    "#text cleaning to remove stopwords\n",
    "from nltk.corpus import stopwords\n",
    "nltk.download('stopwords')\n",
    "from rake_nltk import Rake\n",
    "import neattext.functions as nfx\n",
    "import seaborn as sns\n",
    "import matplotlib.pyplot as plt\n",
    "import nltk\n",
    "from sklearn.feature_extraction.text import TfidfVectorizer,CountVectorizer\n",
    "from sklearn.metrics.pairwise import cosine_similarity,linear_kernel\n"
   ]
  },
  {
   "cell_type": "markdown",
   "id": "886ffdae",
   "metadata": {},
   "source": [
    "<h2>DATA COLLECTION</h2>"
   ]
  },
  {
   "cell_type": "code",
   "execution_count": 2,
   "id": "5590515d",
   "metadata": {
    "scrolled": true
   },
   "outputs": [],
   "source": [
    "df_course = pd.read_csv(r'C:\\Users\\abdul\\udemy course.csv',sep=';')\n",
    "df_review = pd.read_csv(r'C:\\Users\\abdul\\udemy review.csv',sep=';')\n"
   ]
  },
  {
   "cell_type": "code",
   "execution_count": 3,
   "id": "7ba5c618",
   "metadata": {},
   "outputs": [
    {
     "data": {
      "text/html": [
       "<div>\n",
       "<style scoped>\n",
       "    .dataframe tbody tr th:only-of-type {\n",
       "        vertical-align: middle;\n",
       "    }\n",
       "\n",
       "    .dataframe tbody tr th {\n",
       "        vertical-align: top;\n",
       "    }\n",
       "\n",
       "    .dataframe thead th {\n",
       "        text-align: right;\n",
       "    }\n",
       "</style>\n",
       "<table border=\"1\" class=\"dataframe\">\n",
       "  <thead>\n",
       "    <tr style=\"text-align: right;\">\n",
       "      <th></th>\n",
       "      <th>course_id</th>\n",
       "      <th>course_name</th>\n",
       "      <th>subs</th>\n",
       "      <th>num_reviews</th>\n",
       "      <th>num_lectures</th>\n",
       "      <th>duration</th>\n",
       "      <th>last_update</th>\n",
       "      <th>publish_date</th>\n",
       "      <th>created_date</th>\n",
       "      <th>original_price</th>\n",
       "      <th>discount_price</th>\n",
       "      <th>level</th>\n",
       "      <th>label</th>\n",
       "    </tr>\n",
       "  </thead>\n",
       "  <tbody>\n",
       "    <tr>\n",
       "      <th>0</th>\n",
       "      <td>8082</td>\n",
       "      <td>Ruby Programming for Beginners</td>\n",
       "      <td>28445</td>\n",
       "      <td>643</td>\n",
       "      <td>56</td>\n",
       "      <td>6.0</td>\n",
       "      <td>21/08/2019 00:00</td>\n",
       "      <td>08/07/2011 21:32</td>\n",
       "      <td>14/06/2011 16:09</td>\n",
       "      <td>1050000</td>\n",
       "      <td>182000.0</td>\n",
       "      <td>All Levels</td>\n",
       "      <td>Ruby</td>\n",
       "    </tr>\n",
       "    <tr>\n",
       "      <th>1</th>\n",
       "      <td>8203</td>\n",
       "      <td>Basic and Advanced HTML Lessons</td>\n",
       "      <td>1550</td>\n",
       "      <td>12</td>\n",
       "      <td>15</td>\n",
       "      <td>1.0</td>\n",
       "      <td>10/07/2017 00:00</td>\n",
       "      <td>20/06/2011 17:48</td>\n",
       "      <td>20/06/2011 19:59</td>\n",
       "      <td>350000</td>\n",
       "      <td>182000.0</td>\n",
       "      <td>All Levels</td>\n",
       "      <td>HTML</td>\n",
       "    </tr>\n",
       "    <tr>\n",
       "      <th>2</th>\n",
       "      <td>8319</td>\n",
       "      <td>Git Basics: In Theory and Practice</td>\n",
       "      <td>291</td>\n",
       "      <td>12</td>\n",
       "      <td>31</td>\n",
       "      <td>7.5</td>\n",
       "      <td>NaN</td>\n",
       "      <td>29/07/2011 20:24</td>\n",
       "      <td>28/06/2011 04:48</td>\n",
       "      <td>280000</td>\n",
       "      <td>182000.0</td>\n",
       "      <td>All Levels</td>\n",
       "      <td>Git</td>\n",
       "    </tr>\n",
       "    <tr>\n",
       "      <th>3</th>\n",
       "      <td>8324</td>\n",
       "      <td>Javascript for Beginners</td>\n",
       "      <td>3840</td>\n",
       "      <td>258</td>\n",
       "      <td>48</td>\n",
       "      <td>3.0</td>\n",
       "      <td>16/07/2019 00:00</td>\n",
       "      <td>09/07/2011 05:43</td>\n",
       "      <td>28/06/2011 08:26</td>\n",
       "      <td>280000</td>\n",
       "      <td>182000.0</td>\n",
       "      <td>All Levels</td>\n",
       "      <td>JavaScript</td>\n",
       "    </tr>\n",
       "    <tr>\n",
       "      <th>4</th>\n",
       "      <td>8325</td>\n",
       "      <td>HTML Tutorial: HTML &amp; CSS for Beginners</td>\n",
       "      <td>12521</td>\n",
       "      <td>297</td>\n",
       "      <td>82</td>\n",
       "      <td>4.0</td>\n",
       "      <td>16/07/2019 00:00</td>\n",
       "      <td>09/09/2011 15:28</td>\n",
       "      <td>28/06/2011 08:27</td>\n",
       "      <td>280000</td>\n",
       "      <td>182000.0</td>\n",
       "      <td>All Levels</td>\n",
       "      <td>HTML</td>\n",
       "    </tr>\n",
       "  </tbody>\n",
       "</table>\n",
       "</div>"
      ],
      "text/plain": [
       "   course_id                              course_name   subs  num_reviews  \\\n",
       "0       8082           Ruby Programming for Beginners  28445          643   \n",
       "1       8203          Basic and Advanced HTML Lessons   1550           12   \n",
       "2       8319       Git Basics: In Theory and Practice    291           12   \n",
       "3       8324                 Javascript for Beginners   3840          258   \n",
       "4       8325  HTML Tutorial: HTML & CSS for Beginners  12521          297   \n",
       "\n",
       "   num_lectures  duration       last_update      publish_date  \\\n",
       "0            56       6.0  21/08/2019 00:00  08/07/2011 21:32   \n",
       "1            15       1.0  10/07/2017 00:00  20/06/2011 17:48   \n",
       "2            31       7.5               NaN  29/07/2011 20:24   \n",
       "3            48       3.0  16/07/2019 00:00  09/07/2011 05:43   \n",
       "4            82       4.0  16/07/2019 00:00  09/09/2011 15:28   \n",
       "\n",
       "       created_date  original_price  discount_price       level       label  \n",
       "0  14/06/2011 16:09         1050000        182000.0  All Levels        Ruby  \n",
       "1  20/06/2011 19:59          350000        182000.0  All Levels        HTML  \n",
       "2  28/06/2011 04:48          280000        182000.0  All Levels         Git  \n",
       "3  28/06/2011 08:26          280000        182000.0  All Levels  JavaScript  \n",
       "4  28/06/2011 08:27          280000        182000.0  All Levels        HTML  "
      ]
     },
     "execution_count": 3,
     "metadata": {},
     "output_type": "execute_result"
    }
   ],
   "source": [
    "df_course.head()"
   ]
  },
  {
   "cell_type": "code",
   "execution_count": 4,
   "id": "e2d1dfc0",
   "metadata": {},
   "outputs": [
    {
     "data": {
      "text/html": [
       "<div>\n",
       "<style scoped>\n",
       "    .dataframe tbody tr th:only-of-type {\n",
       "        vertical-align: middle;\n",
       "    }\n",
       "\n",
       "    .dataframe tbody tr th {\n",
       "        vertical-align: top;\n",
       "    }\n",
       "\n",
       "    .dataframe thead th {\n",
       "        text-align: right;\n",
       "    }\n",
       "</style>\n",
       "<table border=\"1\" class=\"dataframe\">\n",
       "  <thead>\n",
       "    <tr style=\"text-align: right;\">\n",
       "      <th></th>\n",
       "      <th>course_id</th>\n",
       "      <th>rating</th>\n",
       "      <th>review_content</th>\n",
       "      <th>date</th>\n",
       "    </tr>\n",
       "  </thead>\n",
       "  <tbody>\n",
       "    <tr>\n",
       "      <th>0</th>\n",
       "      <td>8082</td>\n",
       "      <td>4.5</td>\n",
       "      <td>Delivers more than expected. Thank you!</td>\n",
       "      <td>29/07/2019 11:19</td>\n",
       "    </tr>\n",
       "    <tr>\n",
       "      <th>1</th>\n",
       "      <td>8082</td>\n",
       "      <td>2.5</td>\n",
       "      <td>This course would be a good choice if 1) you a...</td>\n",
       "      <td>22/06/2019 11:25</td>\n",
       "    </tr>\n",
       "    <tr>\n",
       "      <th>2</th>\n",
       "      <td>8082</td>\n",
       "      <td>5.0</td>\n",
       "      <td>I am new to Ruby but have programmed in Python...</td>\n",
       "      <td>14/01/2019 12:40</td>\n",
       "    </tr>\n",
       "    <tr>\n",
       "      <th>3</th>\n",
       "      <td>8082</td>\n",
       "      <td>4.0</td>\n",
       "      <td>The instructor has provided quite a lot of inf...</td>\n",
       "      <td>04/12/2018 08:03</td>\n",
       "    </tr>\n",
       "    <tr>\n",
       "      <th>4</th>\n",
       "      <td>8082</td>\n",
       "      <td>5.0</td>\n",
       "      <td>Hare Kṛṣṇa, Hare Kṛṣṇa, Kṛṣṇa Kṛṣṇa, Hare Hare...</td>\n",
       "      <td>16/11/2018 19:12</td>\n",
       "    </tr>\n",
       "  </tbody>\n",
       "</table>\n",
       "</div>"
      ],
      "text/plain": [
       "   course_id  rating                                     review_content  \\\n",
       "0       8082     4.5            Delivers more than expected. Thank you!   \n",
       "1       8082     2.5  This course would be a good choice if 1) you a...   \n",
       "2       8082     5.0  I am new to Ruby but have programmed in Python...   \n",
       "3       8082     4.0  The instructor has provided quite a lot of inf...   \n",
       "4       8082     5.0  Hare Kṛṣṇa, Hare Kṛṣṇa, Kṛṣṇa Kṛṣṇa, Hare Hare...   \n",
       "\n",
       "               date  \n",
       "0  29/07/2019 11:19  \n",
       "1  22/06/2019 11:25  \n",
       "2  14/01/2019 12:40  \n",
       "3  04/12/2018 08:03  \n",
       "4  16/11/2018 19:12  "
      ]
     },
     "execution_count": 4,
     "metadata": {},
     "output_type": "execute_result"
    }
   ],
   "source": [
    "df_review.head()"
   ]
  },
  {
   "cell_type": "markdown",
   "id": "1806c919",
   "metadata": {},
   "source": [
    "<h2>DATA CLEANING</h2>"
   ]
  },
  {
   "cell_type": "markdown",
   "id": "59f38cf8",
   "metadata": {},
   "source": [
    "1. Names are descriptive enough\n",
    "2. No duplicates in course dataset, 1 duplicate in review dataset\n",
    "3. Convert all date columns from object to datetime\n",
    "4. create publish year from published date"
   ]
  },
  {
   "cell_type": "code",
   "execution_count": 5,
   "id": "a36c1c0f",
   "metadata": {
    "scrolled": true
   },
   "outputs": [
    {
     "data": {
      "text/plain": [
       "course_id           int64\n",
       "course_name        object\n",
       "subs                int64\n",
       "num_reviews         int64\n",
       "num_lectures        int64\n",
       "duration          float64\n",
       "last_update        object\n",
       "publish_date       object\n",
       "created_date       object\n",
       "original_price      int64\n",
       "discount_price    float64\n",
       "level              object\n",
       "label              object\n",
       "dtype: object"
      ]
     },
     "execution_count": 5,
     "metadata": {},
     "output_type": "execute_result"
    }
   ],
   "source": [
    "#check datatypes\n",
    "df_course.dtypes"
   ]
  },
  {
   "cell_type": "code",
   "execution_count": 6,
   "id": "3d92d2ca",
   "metadata": {
    "scrolled": true
   },
   "outputs": [
    {
     "data": {
      "text/plain": [
       "course_id           int64\n",
       "rating            float64\n",
       "review_content     object\n",
       "date               object\n",
       "dtype: object"
      ]
     },
     "execution_count": 6,
     "metadata": {},
     "output_type": "execute_result"
    }
   ],
   "source": [
    "df_review.dtypes"
   ]
  },
  {
   "cell_type": "markdown",
   "id": "054af90a",
   "metadata": {},
   "source": [
    "convert all dates column datatype from object to datetime, and course_id to object"
   ]
  },
  {
   "cell_type": "code",
   "execution_count": 7,
   "id": "249c4a37",
   "metadata": {},
   "outputs": [
    {
     "data": {
      "text/html": [
       "<div>\n",
       "<style scoped>\n",
       "    .dataframe tbody tr th:only-of-type {\n",
       "        vertical-align: middle;\n",
       "    }\n",
       "\n",
       "    .dataframe tbody tr th {\n",
       "        vertical-align: top;\n",
       "    }\n",
       "\n",
       "    .dataframe thead th {\n",
       "        text-align: right;\n",
       "    }\n",
       "</style>\n",
       "<table border=\"1\" class=\"dataframe\">\n",
       "  <thead>\n",
       "    <tr style=\"text-align: right;\">\n",
       "      <th></th>\n",
       "      <th>course_id</th>\n",
       "      <th>course_name</th>\n",
       "      <th>subs</th>\n",
       "      <th>num_reviews</th>\n",
       "      <th>num_lectures</th>\n",
       "      <th>duration</th>\n",
       "      <th>last_update</th>\n",
       "      <th>publish_date</th>\n",
       "      <th>created_date</th>\n",
       "      <th>original_price</th>\n",
       "      <th>discount_price</th>\n",
       "      <th>level</th>\n",
       "      <th>label</th>\n",
       "    </tr>\n",
       "  </thead>\n",
       "  <tbody>\n",
       "    <tr>\n",
       "      <th>0</th>\n",
       "      <td>8082</td>\n",
       "      <td>Ruby Programming for Beginners</td>\n",
       "      <td>28445</td>\n",
       "      <td>643</td>\n",
       "      <td>56</td>\n",
       "      <td>6.0</td>\n",
       "      <td>21/08/2019 00:00</td>\n",
       "      <td>08/07/2011 21:32</td>\n",
       "      <td>14/06/2011 16:09</td>\n",
       "      <td>1050000</td>\n",
       "      <td>182000.0</td>\n",
       "      <td>All Levels</td>\n",
       "      <td>Ruby</td>\n",
       "    </tr>\n",
       "  </tbody>\n",
       "</table>\n",
       "</div>"
      ],
      "text/plain": [
       "   course_id                     course_name   subs  num_reviews  \\\n",
       "0       8082  Ruby Programming for Beginners  28445          643   \n",
       "\n",
       "   num_lectures  duration       last_update      publish_date  \\\n",
       "0            56       6.0  21/08/2019 00:00  08/07/2011 21:32   \n",
       "\n",
       "       created_date  original_price  discount_price       level label  \n",
       "0  14/06/2011 16:09         1050000        182000.0  All Levels  Ruby  "
      ]
     },
     "execution_count": 7,
     "metadata": {},
     "output_type": "execute_result"
    }
   ],
   "source": [
    "df_course.head(1)"
   ]
  },
  {
   "cell_type": "code",
   "execution_count": 8,
   "id": "f72e095d",
   "metadata": {},
   "outputs": [],
   "source": [
    "#convert date column to datetime\n",
    "df_course['last_update'] = pd.to_datetime(df_course['last_update'])\n",
    "df_course['publish_date'] = pd.to_datetime(df_course['publish_date'])\n",
    "df_course['created_date'] = pd.to_datetime(df_course['created_date'])\n",
    "df_review['date'] = pd.to_datetime(df_review['date'])\n"
   ]
  },
  {
   "cell_type": "code",
   "execution_count": 9,
   "id": "2e3776c1",
   "metadata": {},
   "outputs": [],
   "source": [
    "#convert course id from int to object. \n",
    "df_course['course_id'] = df_course['course_id'].apply(str)\n",
    "df_review['course_id'] = df_review['course_id'].apply(str)"
   ]
  },
  {
   "cell_type": "code",
   "execution_count": 10,
   "id": "30942076",
   "metadata": {
    "scrolled": false
   },
   "outputs": [
    {
     "data": {
      "text/plain": [
       "0"
      ]
     },
     "execution_count": 10,
     "metadata": {},
     "output_type": "execute_result"
    }
   ],
   "source": [
    "df_course.duplicated().sum()"
   ]
  },
  {
   "cell_type": "code",
   "execution_count": 11,
   "id": "55af1d96",
   "metadata": {},
   "outputs": [
    {
     "data": {
      "text/plain": [
       "1"
      ]
     },
     "execution_count": 11,
     "metadata": {},
     "output_type": "execute_result"
    }
   ],
   "source": [
    "# 1 duplicate\n",
    "df_review.duplicated().sum()"
   ]
  },
  {
   "cell_type": "code",
   "execution_count": 12,
   "id": "1d5e082e",
   "metadata": {},
   "outputs": [],
   "source": [
    "#drop the duplicates\n",
    "df_review.drop_duplicates(inplace=True)"
   ]
  },
  {
   "cell_type": "code",
   "execution_count": 13,
   "id": "9f9b0d93",
   "metadata": {},
   "outputs": [
    {
     "data": {
      "text/plain": [
       "(9243, 13)"
      ]
     },
     "execution_count": 13,
     "metadata": {},
     "output_type": "execute_result"
    }
   ],
   "source": [
    "df_course.shape"
   ]
  },
  {
   "cell_type": "code",
   "execution_count": 14,
   "id": "6af48f5b",
   "metadata": {},
   "outputs": [
    {
     "data": {
      "text/plain": [
       "(488757, 4)"
      ]
     },
     "execution_count": 14,
     "metadata": {},
     "output_type": "execute_result"
    }
   ],
   "source": [
    "df_review.shape"
   ]
  },
  {
   "cell_type": "code",
   "execution_count": 72,
   "id": "0195133b",
   "metadata": {
    "scrolled": true
   },
   "outputs": [
    {
     "data": {
      "text/html": [
       "<div>\n",
       "<style scoped>\n",
       "    .dataframe tbody tr th:only-of-type {\n",
       "        vertical-align: middle;\n",
       "    }\n",
       "\n",
       "    .dataframe tbody tr th {\n",
       "        vertical-align: top;\n",
       "    }\n",
       "\n",
       "    .dataframe thead th {\n",
       "        text-align: right;\n",
       "    }\n",
       "</style>\n",
       "<table border=\"1\" class=\"dataframe\">\n",
       "  <thead>\n",
       "    <tr style=\"text-align: right;\">\n",
       "      <th></th>\n",
       "      <th>course_id</th>\n",
       "      <th>course_name</th>\n",
       "      <th>subs</th>\n",
       "      <th>num_reviews</th>\n",
       "      <th>num_lectures</th>\n",
       "      <th>duration</th>\n",
       "      <th>last_update</th>\n",
       "      <th>publish_date</th>\n",
       "      <th>created_date</th>\n",
       "      <th>original_price</th>\n",
       "      <th>discount_price</th>\n",
       "      <th>level</th>\n",
       "      <th>label</th>\n",
       "    </tr>\n",
       "  </thead>\n",
       "  <tbody>\n",
       "    <tr>\n",
       "      <th>2584</th>\n",
       "      <td>885581</td>\n",
       "      <td>HTML5 CSS3 Javascript: All in one course [WEEK...</td>\n",
       "      <td>154</td>\n",
       "      <td>34</td>\n",
       "      <td>83</td>\n",
       "      <td>7.0</td>\n",
       "      <td>2018-11-13</td>\n",
       "      <td>2016-10-21 14:29:00</td>\n",
       "      <td>2016-06-22 18:56:00</td>\n",
       "      <td>1400000</td>\n",
       "      <td>182000.0</td>\n",
       "      <td>All Levels</td>\n",
       "      <td>PHP</td>\n",
       "    </tr>\n",
       "    <tr>\n",
       "      <th>5028</th>\n",
       "      <td>1398334</td>\n",
       "      <td>Build a Flappy Bird like game in Clickteam Fus...</td>\n",
       "      <td>59</td>\n",
       "      <td>10</td>\n",
       "      <td>28</td>\n",
       "      <td>1.5</td>\n",
       "      <td>2017-11-14</td>\n",
       "      <td>2017-10-19 03:12:00</td>\n",
       "      <td>2017-10-17 18:20:00</td>\n",
       "      <td>420000</td>\n",
       "      <td>NaN</td>\n",
       "      <td>All Levels</td>\n",
       "      <td>Clickteam</td>\n",
       "    </tr>\n",
       "    <tr>\n",
       "      <th>4404</th>\n",
       "      <td>1295786</td>\n",
       "      <td>R and Machine Learning Fundamentals</td>\n",
       "      <td>19</td>\n",
       "      <td>3</td>\n",
       "      <td>23</td>\n",
       "      <td>1.5</td>\n",
       "      <td>2017-07-20</td>\n",
       "      <td>2017-07-20 23:13:00</td>\n",
       "      <td>2017-07-17 11:38:00</td>\n",
       "      <td>2800000</td>\n",
       "      <td>182000.0</td>\n",
       "      <td>Intermediate</td>\n",
       "      <td>Machine Learning</td>\n",
       "    </tr>\n",
       "    <tr>\n",
       "      <th>8994</th>\n",
       "      <td>2411470</td>\n",
       "      <td>Travis CI Tutorial</td>\n",
       "      <td>1897</td>\n",
       "      <td>10</td>\n",
       "      <td>33</td>\n",
       "      <td>2.0</td>\n",
       "      <td>2019-09-13</td>\n",
       "      <td>2019-01-07 00:43:00</td>\n",
       "      <td>2019-06-13 07:41:00</td>\n",
       "      <td>280000</td>\n",
       "      <td>182000.0</td>\n",
       "      <td>All Levels</td>\n",
       "      <td>Continuous Integration</td>\n",
       "    </tr>\n",
       "    <tr>\n",
       "      <th>6199</th>\n",
       "      <td>1630748</td>\n",
       "      <td>Javascript and PHP Programming Bundle</td>\n",
       "      <td>3112</td>\n",
       "      <td>42</td>\n",
       "      <td>80</td>\n",
       "      <td>8.0</td>\n",
       "      <td>2019-09-07</td>\n",
       "      <td>2018-05-04 18:20:00</td>\n",
       "      <td>2018-04-04 12:54:00</td>\n",
       "      <td>2800000</td>\n",
       "      <td>182000.0</td>\n",
       "      <td>Beginner</td>\n",
       "      <td>JavaScript</td>\n",
       "    </tr>\n",
       "    <tr>\n",
       "      <th>7388</th>\n",
       "      <td>1931104</td>\n",
       "      <td>Hands-on Scikit-learn for Machine Learning</td>\n",
       "      <td>49</td>\n",
       "      <td>6</td>\n",
       "      <td>50</td>\n",
       "      <td>9.0</td>\n",
       "      <td>2018-10-10</td>\n",
       "      <td>2018-11-10 19:33:00</td>\n",
       "      <td>2018-09-25 03:54:00</td>\n",
       "      <td>1750000</td>\n",
       "      <td>182000.0</td>\n",
       "      <td>Intermediate</td>\n",
       "      <td>Machine Learning</td>\n",
       "    </tr>\n",
       "  </tbody>\n",
       "</table>\n",
       "</div>"
      ],
      "text/plain": [
       "     course_id                                        course_name  subs  \\\n",
       "2584    885581  HTML5 CSS3 Javascript: All in one course [WEEK...   154   \n",
       "5028   1398334  Build a Flappy Bird like game in Clickteam Fus...    59   \n",
       "4404   1295786                R and Machine Learning Fundamentals    19   \n",
       "8994   2411470                                 Travis CI Tutorial  1897   \n",
       "6199   1630748              Javascript and PHP Programming Bundle  3112   \n",
       "7388   1931104         Hands-on Scikit-learn for Machine Learning    49   \n",
       "\n",
       "      num_reviews  num_lectures  duration last_update        publish_date  \\\n",
       "2584           34            83       7.0  2018-11-13 2016-10-21 14:29:00   \n",
       "5028           10            28       1.5  2017-11-14 2017-10-19 03:12:00   \n",
       "4404            3            23       1.5  2017-07-20 2017-07-20 23:13:00   \n",
       "8994           10            33       2.0  2019-09-13 2019-01-07 00:43:00   \n",
       "6199           42            80       8.0  2019-09-07 2018-05-04 18:20:00   \n",
       "7388            6            50       9.0  2018-10-10 2018-11-10 19:33:00   \n",
       "\n",
       "            created_date  original_price  discount_price         level  \\\n",
       "2584 2016-06-22 18:56:00         1400000        182000.0    All Levels   \n",
       "5028 2017-10-17 18:20:00          420000             NaN    All Levels   \n",
       "4404 2017-07-17 11:38:00         2800000        182000.0  Intermediate   \n",
       "8994 2019-06-13 07:41:00          280000        182000.0    All Levels   \n",
       "6199 2018-04-04 12:54:00         2800000        182000.0      Beginner   \n",
       "7388 2018-09-25 03:54:00         1750000        182000.0  Intermediate   \n",
       "\n",
       "                       label  \n",
       "2584                     PHP  \n",
       "5028               Clickteam  \n",
       "4404        Machine Learning  \n",
       "8994  Continuous Integration  \n",
       "6199              JavaScript  \n",
       "7388        Machine Learning  "
      ]
     },
     "execution_count": 72,
     "metadata": {},
     "output_type": "execute_result"
    }
   ],
   "source": [
    "df_course.sample(6)"
   ]
  },
  {
   "cell_type": "markdown",
   "id": "03914d9b",
   "metadata": {},
   "source": [
    "There are non english stuff. We'll revisit "
   ]
  },
  {
   "cell_type": "code",
   "execution_count": 73,
   "id": "508e44f3",
   "metadata": {
    "scrolled": false
   },
   "outputs": [
    {
     "data": {
      "text/html": [
       "<div>\n",
       "<style scoped>\n",
       "    .dataframe tbody tr th:only-of-type {\n",
       "        vertical-align: middle;\n",
       "    }\n",
       "\n",
       "    .dataframe tbody tr th {\n",
       "        vertical-align: top;\n",
       "    }\n",
       "\n",
       "    .dataframe thead th {\n",
       "        text-align: right;\n",
       "    }\n",
       "</style>\n",
       "<table border=\"1\" class=\"dataframe\">\n",
       "  <thead>\n",
       "    <tr style=\"text-align: right;\">\n",
       "      <th></th>\n",
       "      <th>course_id</th>\n",
       "      <th>rating</th>\n",
       "      <th>review_content</th>\n",
       "      <th>date</th>\n",
       "    </tr>\n",
       "  </thead>\n",
       "  <tbody>\n",
       "    <tr>\n",
       "      <th>369517</th>\n",
       "      <td>1338454</td>\n",
       "      <td>5.0</td>\n",
       "      <td>nice course,</td>\n",
       "      <td>2018-03-05 13:39:00</td>\n",
       "    </tr>\n",
       "    <tr>\n",
       "      <th>214295</th>\n",
       "      <td>876850</td>\n",
       "      <td>3.5</td>\n",
       "      <td>I enjoyed the course thoroughly, But expected ...</td>\n",
       "      <td>2017-08-01 03:42:00</td>\n",
       "    </tr>\n",
       "    <tr>\n",
       "      <th>250299</th>\n",
       "      <td>959700</td>\n",
       "      <td>4.0</td>\n",
       "      <td>I like how Stephen reiterates basics as well a...</td>\n",
       "      <td>2019-01-16 09:41:00</td>\n",
       "    </tr>\n",
       "    <tr>\n",
       "      <th>317515</th>\n",
       "      <td>1192352</td>\n",
       "      <td>4.0</td>\n",
       "      <td>Very concise and very well explained. Everyone...</td>\n",
       "      <td>2019-09-08 09:47:00</td>\n",
       "    </tr>\n",
       "    <tr>\n",
       "      <th>266368</th>\n",
       "      <td>1002676</td>\n",
       "      <td>3.0</td>\n",
       "      <td>Course moves to fast</td>\n",
       "      <td>2017-05-23 15:32:00</td>\n",
       "    </tr>\n",
       "    <tr>\n",
       "      <th>239996</th>\n",
       "      <td>939452</td>\n",
       "      <td>5.0</td>\n",
       "      <td>Quite a clear explanation of general definitio...</td>\n",
       "      <td>2018-04-25 12:36:00</td>\n",
       "    </tr>\n",
       "  </tbody>\n",
       "</table>\n",
       "</div>"
      ],
      "text/plain": [
       "       course_id  rating                                     review_content  \\\n",
       "369517   1338454     5.0                                       nice course,   \n",
       "214295    876850     3.5  I enjoyed the course thoroughly, But expected ...   \n",
       "250299    959700     4.0  I like how Stephen reiterates basics as well a...   \n",
       "317515   1192352     4.0  Very concise and very well explained. Everyone...   \n",
       "266368   1002676     3.0                               Course moves to fast   \n",
       "239996    939452     5.0  Quite a clear explanation of general definitio...   \n",
       "\n",
       "                      date  \n",
       "369517 2018-03-05 13:39:00  \n",
       "214295 2017-08-01 03:42:00  \n",
       "250299 2019-01-16 09:41:00  \n",
       "317515 2019-09-08 09:47:00  \n",
       "266368 2017-05-23 15:32:00  \n",
       "239996 2018-04-25 12:36:00  "
      ]
     },
     "execution_count": 73,
     "metadata": {},
     "output_type": "execute_result"
    }
   ],
   "source": [
    "df_review.sample(6)"
   ]
  },
  {
   "cell_type": "code",
   "execution_count": 74,
   "id": "7585ee33",
   "metadata": {},
   "outputs": [
    {
     "data": {
      "text/html": [
       "<div>\n",
       "<style scoped>\n",
       "    .dataframe tbody tr th:only-of-type {\n",
       "        vertical-align: middle;\n",
       "    }\n",
       "\n",
       "    .dataframe tbody tr th {\n",
       "        vertical-align: top;\n",
       "    }\n",
       "\n",
       "    .dataframe thead th {\n",
       "        text-align: right;\n",
       "    }\n",
       "</style>\n",
       "<table border=\"1\" class=\"dataframe\">\n",
       "  <thead>\n",
       "    <tr style=\"text-align: right;\">\n",
       "      <th></th>\n",
       "      <th>course_id</th>\n",
       "      <th>course_name</th>\n",
       "      <th>subs</th>\n",
       "      <th>num_reviews</th>\n",
       "      <th>num_lectures</th>\n",
       "      <th>duration</th>\n",
       "      <th>last_update</th>\n",
       "      <th>publish_date</th>\n",
       "      <th>created_date</th>\n",
       "      <th>original_price</th>\n",
       "      <th>discount_price</th>\n",
       "      <th>level</th>\n",
       "      <th>label</th>\n",
       "    </tr>\n",
       "  </thead>\n",
       "  <tbody>\n",
       "    <tr>\n",
       "      <th>0</th>\n",
       "      <td>8082</td>\n",
       "      <td>Ruby Programming for Beginners</td>\n",
       "      <td>28445</td>\n",
       "      <td>643</td>\n",
       "      <td>56</td>\n",
       "      <td>6.0</td>\n",
       "      <td>2019-08-21</td>\n",
       "      <td>2011-08-07 21:32:00</td>\n",
       "      <td>2011-06-14 16:09:00</td>\n",
       "      <td>1050000</td>\n",
       "      <td>182000.0</td>\n",
       "      <td>All Levels</td>\n",
       "      <td>Ruby</td>\n",
       "    </tr>\n",
       "    <tr>\n",
       "      <th>1</th>\n",
       "      <td>8203</td>\n",
       "      <td>Basic and Advanced HTML Lessons</td>\n",
       "      <td>1550</td>\n",
       "      <td>12</td>\n",
       "      <td>15</td>\n",
       "      <td>1.0</td>\n",
       "      <td>2017-10-07</td>\n",
       "      <td>2011-06-20 17:48:00</td>\n",
       "      <td>2011-06-20 19:59:00</td>\n",
       "      <td>350000</td>\n",
       "      <td>182000.0</td>\n",
       "      <td>All Levels</td>\n",
       "      <td>HTML</td>\n",
       "    </tr>\n",
       "  </tbody>\n",
       "</table>\n",
       "</div>"
      ],
      "text/plain": [
       "  course_id                      course_name   subs  num_reviews  \\\n",
       "0      8082   Ruby Programming for Beginners  28445          643   \n",
       "1      8203  Basic and Advanced HTML Lessons   1550           12   \n",
       "\n",
       "   num_lectures  duration last_update        publish_date        created_date  \\\n",
       "0            56       6.0  2019-08-21 2011-08-07 21:32:00 2011-06-14 16:09:00   \n",
       "1            15       1.0  2017-10-07 2011-06-20 17:48:00 2011-06-20 19:59:00   \n",
       "\n",
       "   original_price  discount_price       level label  \n",
       "0         1050000        182000.0  All Levels  Ruby  \n",
       "1          350000        182000.0  All Levels  HTML  "
      ]
     },
     "execution_count": 74,
     "metadata": {},
     "output_type": "execute_result"
    }
   ],
   "source": [
    "df_course.head(2)"
   ]
  },
  {
   "cell_type": "code",
   "execution_count": 15,
   "id": "181f3158",
   "metadata": {},
   "outputs": [
    {
     "name": "stdout",
     "output_type": "stream",
     "text": [
      "<class 'pandas.core.frame.DataFrame'>\n",
      "RangeIndex: 9243 entries, 0 to 9242\n",
      "Data columns (total 13 columns):\n",
      " #   Column          Non-Null Count  Dtype         \n",
      "---  ------          --------------  -----         \n",
      " 0   course_id       9243 non-null   object        \n",
      " 1   course_name     9243 non-null   object        \n",
      " 2   subs            9243 non-null   int64         \n",
      " 3   num_reviews     9243 non-null   int64         \n",
      " 4   num_lectures    9243 non-null   int64         \n",
      " 5   duration        9243 non-null   float64       \n",
      " 6   last_update     9218 non-null   datetime64[ns]\n",
      " 7   publish_date    9243 non-null   datetime64[ns]\n",
      " 8   created_date    9243 non-null   datetime64[ns]\n",
      " 9   original_price  9243 non-null   int64         \n",
      " 10  discount_price  9063 non-null   float64       \n",
      " 11  level           9239 non-null   object        \n",
      " 12  label           9233 non-null   object        \n",
      "dtypes: datetime64[ns](3), float64(2), int64(4), object(4)\n",
      "memory usage: 938.9+ KB\n"
     ]
    }
   ],
   "source": [
    "#columns : last_update, discount_price, level, and label have null values. Others are known\n",
    "df_course.info()"
   ]
  },
  {
   "cell_type": "code",
   "execution_count": 16,
   "id": "fb1f89fd",
   "metadata": {},
   "outputs": [
    {
     "name": "stdout",
     "output_type": "stream",
     "text": [
      "<class 'pandas.core.frame.DataFrame'>\n",
      "Int64Index: 488757 entries, 0 to 488757\n",
      "Data columns (total 4 columns):\n",
      " #   Column          Non-Null Count   Dtype         \n",
      "---  ------          --------------   -----         \n",
      " 0   course_id       488757 non-null  object        \n",
      " 1   rating          488757 non-null  float64       \n",
      " 2   review_content  488677 non-null  object        \n",
      " 3   date            488757 non-null  datetime64[ns]\n",
      "dtypes: datetime64[ns](1), float64(1), object(2)\n",
      "memory usage: 18.6+ MB\n"
     ]
    }
   ],
   "source": [
    "#There are rows with no course id \n",
    " \n",
    "df_review.info()"
   ]
  },
  {
   "cell_type": "markdown",
   "id": "49500a96",
   "metadata": {},
   "source": [
    "<h2>DATA ANALYSIS</h2>"
   ]
  },
  {
   "cell_type": "markdown",
   "id": "f24c50aa",
   "metadata": {},
   "source": [
    "1. Courses with the highest number of reviews\n",
    "2. Do higher ratings correlate with: course duration, number of lectures, original_price, discount_price, level?\n",
    "3. Correlation between frequently updated courses and average ratings\n",
    "4. words associated with good reviews"
   ]
  },
  {
   "cell_type": "markdown",
   "id": "349e92e1",
   "metadata": {},
   "source": [
    " wHAT TYPE OF RECOMMENDER SYSTEM DO WE USE?"
   ]
  },
  {
   "cell_type": "markdown",
   "id": "2aa4868b",
   "metadata": {},
   "source": [
    "Most popular courses reviewed"
   ]
  },
  {
   "cell_type": "code",
   "execution_count": 17,
   "id": "b647bea1",
   "metadata": {
    "scrolled": true
   },
   "outputs": [
    {
     "data": {
      "text/html": [
       "<div>\n",
       "<style scoped>\n",
       "    .dataframe tbody tr th:only-of-type {\n",
       "        vertical-align: middle;\n",
       "    }\n",
       "\n",
       "    .dataframe tbody tr th {\n",
       "        vertical-align: top;\n",
       "    }\n",
       "\n",
       "    .dataframe thead th {\n",
       "        text-align: right;\n",
       "    }\n",
       "</style>\n",
       "<table border=\"1\" class=\"dataframe\">\n",
       "  <thead>\n",
       "    <tr style=\"text-align: right;\">\n",
       "      <th></th>\n",
       "      <th>course_id</th>\n",
       "      <th>course_name</th>\n",
       "      <th>subs</th>\n",
       "      <th>num_reviews</th>\n",
       "      <th>num_lectures</th>\n",
       "      <th>duration</th>\n",
       "      <th>last_update</th>\n",
       "      <th>publish_date</th>\n",
       "      <th>created_date</th>\n",
       "      <th>original_price</th>\n",
       "      <th>discount_price</th>\n",
       "      <th>level</th>\n",
       "      <th>label</th>\n",
       "    </tr>\n",
       "  </thead>\n",
       "  <tbody>\n",
       "    <tr>\n",
       "      <th>0</th>\n",
       "      <td>567828</td>\n",
       "      <td>Complete Python Bootcamp: Go from zero to hero...</td>\n",
       "      <td>685057</td>\n",
       "      <td>186085</td>\n",
       "      <td>186</td>\n",
       "      <td>24.0</td>\n",
       "      <td>2019-04-09</td>\n",
       "      <td>2015-12-10 21:42:00</td>\n",
       "      <td>2015-07-29 00:12:00</td>\n",
       "      <td>2730000</td>\n",
       "      <td>182000.0</td>\n",
       "      <td>All Levels</td>\n",
       "      <td>Python</td>\n",
       "    </tr>\n",
       "    <tr>\n",
       "      <th>1</th>\n",
       "      <td>625204</td>\n",
       "      <td>The Web Developer Bootcamp</td>\n",
       "      <td>460682</td>\n",
       "      <td>135796</td>\n",
       "      <td>399</td>\n",
       "      <td>47.0</td>\n",
       "      <td>2019-05-09</td>\n",
       "      <td>2015-02-11 21:13:00</td>\n",
       "      <td>2015-09-28 21:32:00</td>\n",
       "      <td>2800000</td>\n",
       "      <td>182000.0</td>\n",
       "      <td>All Levels</td>\n",
       "      <td>Web Development</td>\n",
       "    </tr>\n",
       "    <tr>\n",
       "      <th>2</th>\n",
       "      <td>533682</td>\n",
       "      <td>Java Programming Masterclass for Software Deve...</td>\n",
       "      <td>357090</td>\n",
       "      <td>83454</td>\n",
       "      <td>392</td>\n",
       "      <td>79.0</td>\n",
       "      <td>2019-08-22</td>\n",
       "      <td>2015-07-21 22:01:00</td>\n",
       "      <td>2015-06-21 20:25:00</td>\n",
       "      <td>2100000</td>\n",
       "      <td>182000.0</td>\n",
       "      <td>All Levels</td>\n",
       "      <td>Java</td>\n",
       "    </tr>\n",
       "    <tr>\n",
       "      <th>3</th>\n",
       "      <td>41295</td>\n",
       "      <td>Learn HTML5 Programming From Scratch</td>\n",
       "      <td>316033</td>\n",
       "      <td>13294</td>\n",
       "      <td>46</td>\n",
       "      <td>10.5</td>\n",
       "      <td>2018-11-26</td>\n",
       "      <td>2013-02-14 07:03:00</td>\n",
       "      <td>2013-12-02 09:25:00</td>\n",
       "      <td>280000</td>\n",
       "      <td>182000.0</td>\n",
       "      <td>All Levels</td>\n",
       "      <td>HTML5</td>\n",
       "    </tr>\n",
       "    <tr>\n",
       "      <th>4</th>\n",
       "      <td>258316</td>\n",
       "      <td>Complete C# Unity Developer 2D: Learn to Code ...</td>\n",
       "      <td>315197</td>\n",
       "      <td>63783</td>\n",
       "      <td>221</td>\n",
       "      <td>35.0</td>\n",
       "      <td>2019-09-14</td>\n",
       "      <td>2014-03-09 19:30:00</td>\n",
       "      <td>2014-09-07 19:17:00</td>\n",
       "      <td>2730000</td>\n",
       "      <td>182000.0</td>\n",
       "      <td>All Levels</td>\n",
       "      <td>Unity</td>\n",
       "    </tr>\n",
       "  </tbody>\n",
       "</table>\n",
       "</div>"
      ],
      "text/plain": [
       "  course_id                                        course_name    subs  \\\n",
       "0    567828  Complete Python Bootcamp: Go from zero to hero...  685057   \n",
       "1    625204                         The Web Developer Bootcamp  460682   \n",
       "2    533682  Java Programming Masterclass for Software Deve...  357090   \n",
       "3     41295               Learn HTML5 Programming From Scratch  316033   \n",
       "4    258316  Complete C# Unity Developer 2D: Learn to Code ...  315197   \n",
       "\n",
       "   num_reviews  num_lectures  duration last_update        publish_date  \\\n",
       "0       186085           186      24.0  2019-04-09 2015-12-10 21:42:00   \n",
       "1       135796           399      47.0  2019-05-09 2015-02-11 21:13:00   \n",
       "2        83454           392      79.0  2019-08-22 2015-07-21 22:01:00   \n",
       "3        13294            46      10.5  2018-11-26 2013-02-14 07:03:00   \n",
       "4        63783           221      35.0  2019-09-14 2014-03-09 19:30:00   \n",
       "\n",
       "         created_date  original_price  discount_price       level  \\\n",
       "0 2015-07-29 00:12:00         2730000        182000.0  All Levels   \n",
       "1 2015-09-28 21:32:00         2800000        182000.0  All Levels   \n",
       "2 2015-06-21 20:25:00         2100000        182000.0  All Levels   \n",
       "3 2013-12-02 09:25:00          280000        182000.0  All Levels   \n",
       "4 2014-09-07 19:17:00         2730000        182000.0  All Levels   \n",
       "\n",
       "             label  \n",
       "0           Python  \n",
       "1  Web Development  \n",
       "2             Java  \n",
       "3            HTML5  \n",
       "4            Unity  "
      ]
     },
     "execution_count": 17,
     "metadata": {},
     "output_type": "execute_result"
    }
   ],
   "source": [
    "df_courseCopy = df_course.copy()\n",
    "df_courseCopy.sort_values(by='subs',ascending = False,inplace=True )\n",
    "df_courseCopy.reset_index(inplace=True,drop =True)\n",
    "df_courseCopy.head()"
   ]
  },
  {
   "cell_type": "markdown",
   "id": "6d468672",
   "metadata": {},
   "source": [
    "Most popular 'label' according to number of subscribers"
   ]
  },
  {
   "cell_type": "code",
   "execution_count": 21,
   "id": "91ead84e",
   "metadata": {},
   "outputs": [],
   "source": [
    "# df_courseCopy = df_course.copy()\n",
    "# df_labelCat = df_courseCopy.groupby(['label'],as_index=False)['subs'].sum()\n",
    "# # df_labelCat.to_frame()\n",
    "# df_labelCat.reset_index(level=0, drop=True,inplACE=True)\n",
    "# # df_labelCat = df_labelCat.to_frame()\n",
    "# # df_labelCat.sort_values(by='subs', ascending = False, inplace=True)\n",
    "# # df_labelCat.reset_index(inplace=True)\n",
    "# # # df_courseCopy.sort_values(by='num_reviews',ascending = False,inplace=True )\n",
    "# # # df_courseCopy.reset_index(inplace=True,drop =True)\n",
    "# # # df_courseCopy.head()\n",
    "# type(df_labelCat)"
   ]
  },
  {
   "cell_type": "code",
   "execution_count": 37,
   "id": "edd580ef",
   "metadata": {
    "scrolled": true
   },
   "outputs": [
    {
     "data": {
      "text/plain": [
       "<AxesSubplot:title={'center':'Labels with the most courses'}, xlabel='Label', ylabel='Number of courses'>"
      ]
     },
     "execution_count": 37,
     "metadata": {},
     "output_type": "execute_result"
    },
    {
     "data": {
      "image/png": "[encoded data removed]",
      "text/plain": [
       "<Figure size 1080x720 with 1 Axes>"
      ]
     },
     "metadata": {
      "needs_background": "light"
     },
     "output_type": "display_data"
    }
   ],
   "source": [
    "# df_course['label'].value_counts()\n",
    "# dfTopSubs = df_course.groupby(['label'])['subs'].count()\n",
    "# dfTopSubs.sort_values(ascending = False, inplace=True)\n",
    "# dfTopSubs.reset_index(inplace=True)\n",
    "fig, ax = plt.subplots()\n",
    "font = {'family':'serif','color':'blue','size':19}\n",
    "font2 = {'family':'serif','color':'blue','size':24}\n",
    "plt.title('Labels with the most courses',fontdict = font2)\n",
    "plt.xlabel('Label',fontdict=font)\n",
    "plt.ylabel('Number of courses',fontdict=font)\n",
    "ax.tick_params(axis='both', which='major', labelsize=16)\n",
    "dfTopSubs.head().plot(kind='bar',xlabel = \"Label\",ylabel='Number of courses',figsize = (15,10),\n",
    "                     )"
   ]
  },
  {
   "cell_type": "markdown",
   "id": "a8ae7255",
   "metadata": {},
   "source": [
    "we use label instead of  'category' because users are quite specific on the topic they'd like to learn\n"
   ]
  },
  {
   "cell_type": "code",
   "execution_count": null,
   "id": "6058f1f2",
   "metadata": {},
   "outputs": [],
   "source": [
    "#check which if number of reviews actually tallies with dataset. "
   ]
  },
  {
   "cell_type": "markdown",
   "id": "cec20200",
   "metadata": {},
   "source": [
    "### 2. Impact of course duration\n",
    "How does the course duration relate to the number of subscribers or reviews? Are longer courses more popular or successful?"
   ]
  },
  {
   "cell_type": "code",
   "execution_count": 38,
   "id": "87dc3aec",
   "metadata": {},
   "outputs": [
    {
     "data": {
      "text/html": [
       "<div>\n",
       "<style scoped>\n",
       "    .dataframe tbody tr th:only-of-type {\n",
       "        vertical-align: middle;\n",
       "    }\n",
       "\n",
       "    .dataframe tbody tr th {\n",
       "        vertical-align: top;\n",
       "    }\n",
       "\n",
       "    .dataframe thead th {\n",
       "        text-align: right;\n",
       "    }\n",
       "</style>\n",
       "<table border=\"1\" class=\"dataframe\">\n",
       "  <thead>\n",
       "    <tr style=\"text-align: right;\">\n",
       "      <th></th>\n",
       "      <th>course_id</th>\n",
       "      <th>course_name</th>\n",
       "      <th>subs</th>\n",
       "      <th>num_reviews</th>\n",
       "      <th>num_lectures</th>\n",
       "      <th>duration</th>\n",
       "      <th>last_update</th>\n",
       "      <th>publish_date</th>\n",
       "      <th>created_date</th>\n",
       "      <th>original_price</th>\n",
       "      <th>discount_price</th>\n",
       "      <th>level</th>\n",
       "      <th>label</th>\n",
       "    </tr>\n",
       "  </thead>\n",
       "  <tbody>\n",
       "    <tr>\n",
       "      <th>0</th>\n",
       "      <td>8082</td>\n",
       "      <td>Ruby Programming for Beginners</td>\n",
       "      <td>28445</td>\n",
       "      <td>643</td>\n",
       "      <td>56</td>\n",
       "      <td>6.0</td>\n",
       "      <td>2019-08-21</td>\n",
       "      <td>2011-08-07 21:32:00</td>\n",
       "      <td>2011-06-14 16:09:00</td>\n",
       "      <td>1050000</td>\n",
       "      <td>182000.0</td>\n",
       "      <td>All Levels</td>\n",
       "      <td>Ruby</td>\n",
       "    </tr>\n",
       "  </tbody>\n",
       "</table>\n",
       "</div>"
      ],
      "text/plain": [
       "  course_id                     course_name   subs  num_reviews  num_lectures  \\\n",
       "0      8082  Ruby Programming for Beginners  28445          643            56   \n",
       "\n",
       "   duration last_update        publish_date        created_date  \\\n",
       "0       6.0  2019-08-21 2011-08-07 21:32:00 2011-06-14 16:09:00   \n",
       "\n",
       "   original_price  discount_price       level label  \n",
       "0         1050000        182000.0  All Levels  Ruby  "
      ]
     },
     "execution_count": 38,
     "metadata": {},
     "output_type": "execute_result"
    }
   ],
   "source": [
    "df_course.head(1)"
   ]
  },
  {
   "cell_type": "markdown",
   "id": "d9c21216",
   "metadata": {},
   "source": [
    "Sentiment score there "
   ]
  },
  {
   "cell_type": "code",
   "execution_count": 40,
   "id": "a7f3315d",
   "metadata": {},
   "outputs": [],
   "source": [
    "# Calculate the correlation between course duration and the number of subscribers\n",
    "subscribers_corr = df_course['duration'].corr(df_course['subs'])"
   ]
  },
  {
   "cell_type": "code",
   "execution_count": 46,
   "id": "024fc831",
   "metadata": {},
   "outputs": [
    {
     "name": "stdout",
     "output_type": "stream",
     "text": [
      "Correlation between course duration and subscribers: 0.17\n"
     ]
    }
   ],
   "source": [
    "print(f\"Correlation between course duration and subscribers: {subscribers_corr:.2f}\")"
   ]
  },
  {
   "cell_type": "code",
   "execution_count": 42,
   "id": "6b98f3b9",
   "metadata": {},
   "outputs": [
    {
     "data": {
      "image/png": "[encoded data removed]",
      "text/plain": [
       "<Figure size 720x432 with 1 Axes>"
      ]
     },
     "metadata": {
      "needs_background": "light"
     },
     "output_type": "display_data"
    }
   ],
   "source": [
    "# scatter plot to visualize the relationship between course duration and subscribers\n",
    "plt.figure(figsize=(10, 6))\n",
    "sns.scatterplot(x='duration', y='subs', data=df_course)\n",
    "plt.title('Course Duration vs. Number of Subscribers')\n",
    "plt.xlabel('Course Duration')\n",
    "plt.ylabel('Number of Subscribers')\n",
    "plt.show()\n",
    "\n"
   ]
  },
  {
   "cell_type": "code",
   "execution_count": 43,
   "id": "1e729de9",
   "metadata": {},
   "outputs": [
    {
     "data": {
      "image/png": "[encoded data removed]",
      "text/plain": [
       "<Figure size 720x432 with 1 Axes>"
      ]
     },
     "metadata": {
      "needs_background": "light"
     },
     "output_type": "display_data"
    }
   ],
   "source": [
    "#scatter plot to visualize the relationship between course duration and reviews\n",
    "plt.figure(figsize=(10, 6))\n",
    "sns.scatterplot(x='duration', y='num_reviews', data=df_course)\n",
    "plt.title('Course Duration vs. Number of Reviews')\n",
    "plt.xlabel('Course Duration')\n",
    "plt.ylabel('Number of Reviews')\n",
    "plt.show()"
   ]
  },
  {
   "cell_type": "code",
   "execution_count": null,
   "id": "fffce712",
   "metadata": {},
   "outputs": [],
   "source": [
    "df_course['publish_date']"
   ]
  },
  {
   "cell_type": "markdown",
   "id": "f757876e",
   "metadata": {},
   "source": [
    "<h2>RECOMMENDATION SYSTEM</h2>\n",
    "How to build a recommendation system via title and review sentiment using similarity. "
   ]
  },
  {
   "cell_type": "code",
   "execution_count": 47,
   "id": "ae068f99",
   "metadata": {},
   "outputs": [],
   "source": [
    "# dir(nfx)"
   ]
  },
  {
   "cell_type": "code",
   "execution_count": 49,
   "id": "a7c698bd",
   "metadata": {
    "scrolled": false
   },
   "outputs": [
    {
     "data": {
      "text/html": [
       "<div>\n",
       "<style scoped>\n",
       "    .dataframe tbody tr th:only-of-type {\n",
       "        vertical-align: middle;\n",
       "    }\n",
       "\n",
       "    .dataframe tbody tr th {\n",
       "        vertical-align: top;\n",
       "    }\n",
       "\n",
       "    .dataframe thead th {\n",
       "        text-align: right;\n",
       "    }\n",
       "</style>\n",
       "<table border=\"1\" class=\"dataframe\">\n",
       "  <thead>\n",
       "    <tr style=\"text-align: right;\">\n",
       "      <th></th>\n",
       "      <th>course_id</th>\n",
       "      <th>course_name</th>\n",
       "      <th>subs</th>\n",
       "      <th>num_reviews</th>\n",
       "      <th>num_lectures</th>\n",
       "      <th>duration</th>\n",
       "      <th>last_update</th>\n",
       "      <th>publish_date</th>\n",
       "      <th>created_date</th>\n",
       "      <th>original_price</th>\n",
       "      <th>discount_price</th>\n",
       "      <th>level</th>\n",
       "      <th>label</th>\n",
       "    </tr>\n",
       "  </thead>\n",
       "  <tbody>\n",
       "    <tr>\n",
       "      <th>0</th>\n",
       "      <td>8082</td>\n",
       "      <td>Ruby Programming for Beginners</td>\n",
       "      <td>28445</td>\n",
       "      <td>643</td>\n",
       "      <td>56</td>\n",
       "      <td>6.0</td>\n",
       "      <td>2019-08-21</td>\n",
       "      <td>2011-08-07 21:32:00</td>\n",
       "      <td>2011-06-14 16:09:00</td>\n",
       "      <td>1050000</td>\n",
       "      <td>182000.0</td>\n",
       "      <td>All Levels</td>\n",
       "      <td>Ruby</td>\n",
       "    </tr>\n",
       "  </tbody>\n",
       "</table>\n",
       "</div>"
      ],
      "text/plain": [
       "  course_id                     course_name   subs  num_reviews  num_lectures  \\\n",
       "0      8082  Ruby Programming for Beginners  28445          643            56   \n",
       "\n",
       "   duration last_update        publish_date        created_date  \\\n",
       "0       6.0  2019-08-21 2011-08-07 21:32:00 2011-06-14 16:09:00   \n",
       "\n",
       "   original_price  discount_price       level label  \n",
       "0         1050000        182000.0  All Levels  Ruby  "
      ]
     },
     "execution_count": 49,
     "metadata": {},
     "output_type": "execute_result"
    }
   ],
   "source": [
    "df_course.head(1)"
   ]
  },
  {
   "cell_type": "code",
   "execution_count": 52,
   "id": "07bac15d",
   "metadata": {},
   "outputs": [
    {
     "data": {
      "text/plain": [
       "1            Basic Advanced HTML Lessons\n",
       "2            Git Basics: Theory Practice\n",
       "3                   Javascript Beginners\n",
       "4    HTML Tutorial: HTML & CSS Beginners\n",
       "Name: cleaned_title, dtype: object"
      ]
     },
     "execution_count": 52,
     "metadata": {},
     "output_type": "execute_result"
    }
   ],
   "source": [
    "# Function to remove stopwords from a text\n",
    "def remove_stopwords(text):\n",
    "    stop_words = set(stopwords.words('english'))\n",
    "    words = text.split()\n",
    "    filtered_words = [word for word in words if word.lower() not in stop_words]\n",
    "    return ' '.join(filtered_words)\n",
    "\n",
    "# Apply the function to create a new cleaned_title column\n",
    "df_course = df_course.copy()\n",
    "df_course['cleaned_title'] = df_course['course_name'].apply(remove_stopwords)\n",
    "df_course['cleaned_title'].iloc[1:5]"
   ]
  },
  {
   "cell_type": "code",
   "execution_count": 56,
   "id": "a95fc776",
   "metadata": {
    "scrolled": true
   },
   "outputs": [],
   "source": [
    "# #remove all stopwords\n",
    "\n",
    "# df_course['cleaned_title'] = df_course['course_name'].apply(nfx.remove_stopwords)\n",
    "\n",
    "# # df_course['cleaned_title'] = df_course['cleaned_title'].apply(nfx.remove_special_characters)\n",
    "\n",
    "# df_course['cleaned_title'].iloc[1:5]"
   ]
  },
  {
   "cell_type": "code",
   "execution_count": 53,
   "id": "cde1a913",
   "metadata": {
    "scrolled": true
   },
   "outputs": [
    {
     "data": {
      "text/plain": [
       "1                          Basic Advanced HTML Lessons\n",
       "2                          Git Basics: Theory Practice\n",
       "3                                 Javascript Beginners\n",
       "4                  HTML Tutorial: HTML & CSS Beginners\n",
       "5    Beginners - Create iPhone iPad Apps - Zero Coding\n",
       "6    Programming Java Beginners - Ultimate Java Tut...\n",
       "7                                    Learn Program C++\n",
       "8    Practical Transformation Using XSLT XPath (5-h...\n",
       "9          Introduction Microsoft SQL Server Databases\n",
       "Name: cleaned_title, dtype: object"
      ]
     },
     "execution_count": 53,
     "metadata": {},
     "output_type": "execute_result"
    }
   ],
   "source": [
    "df_course['cleaned_title'].iloc[1:10]"
   ]
  },
  {
   "cell_type": "code",
   "execution_count": 58,
   "id": "c77fa139",
   "metadata": {
    "scrolled": false
   },
   "outputs": [
    {
     "data": {
      "text/html": [
       "<div>\n",
       "<style scoped>\n",
       "    .dataframe tbody tr th:only-of-type {\n",
       "        vertical-align: middle;\n",
       "    }\n",
       "\n",
       "    .dataframe tbody tr th {\n",
       "        vertical-align: top;\n",
       "    }\n",
       "\n",
       "    .dataframe thead th {\n",
       "        text-align: right;\n",
       "    }\n",
       "</style>\n",
       "<table border=\"1\" class=\"dataframe\">\n",
       "  <thead>\n",
       "    <tr style=\"text-align: right;\">\n",
       "      <th></th>\n",
       "      <th>cleaned_title</th>\n",
       "      <th>course_name</th>\n",
       "    </tr>\n",
       "  </thead>\n",
       "  <tbody>\n",
       "    <tr>\n",
       "      <th>1175</th>\n",
       "      <td>Bug Tracking Jira: Jira Software/QA Testers</td>\n",
       "      <td>Bug Tracking with Jira: Jira for Software/QA T...</td>\n",
       "    </tr>\n",
       "    <tr>\n",
       "      <th>4349</th>\n",
       "      <td>Learning Path: Frontend Web Development Bootst...</td>\n",
       "      <td>Learning Path: Frontend Web Development with B...</td>\n",
       "    </tr>\n",
       "    <tr>\n",
       "      <th>5480</th>\n",
       "      <td>LEARNING PATH: Game Development GameMaker Stud...</td>\n",
       "      <td>LEARNING PATH: Game Development with GameMaker...</td>\n",
       "    </tr>\n",
       "    <tr>\n",
       "      <th>6995</th>\n",
       "      <td>C++ Programming Basics</td>\n",
       "      <td>C++ Programming Basics</td>\n",
       "    </tr>\n",
       "    <tr>\n",
       "      <th>2051</th>\n",
       "      <td>iOS App Development Complete &amp; Utter Coding Be...</td>\n",
       "      <td>iOS App Development For Complete &amp; Utter Codin...</td>\n",
       "    </tr>\n",
       "    <tr>\n",
       "      <th>9081</th>\n",
       "      <td>Create Members Blog using PHP, MySQL, &amp; AJAX</td>\n",
       "      <td>Create a Members Only Blog using PHP, MySQL, &amp;...</td>\n",
       "    </tr>\n",
       "    <tr>\n",
       "      <th>8133</th>\n",
       "      <td>Selenium Webdriver Cucumber BDD Automation Fra...</td>\n",
       "      <td>Selenium Webdriver with Cucumber BDD Automatio...</td>\n",
       "    </tr>\n",
       "    <tr>\n",
       "      <th>9038</th>\n",
       "      <td>Complete Datatable Tutorial CodeIgniter Framework</td>\n",
       "      <td>Complete Datatable Tutorial with CodeIgniter F...</td>\n",
       "    </tr>\n",
       "    <tr>\n",
       "      <th>1611</th>\n",
       "      <td>eCommerce: Create eCommerce Site Without Coding</td>\n",
       "      <td>eCommerce: Create Your Own eCommerce Site With...</td>\n",
       "    </tr>\n",
       "    <tr>\n",
       "      <th>5147</th>\n",
       "      <td>LEARNING PATH: ElasticSearch: ElasticSearch 5....</td>\n",
       "      <td>LEARNING PATH: ElasticSearch: ElasticSearch 5....</td>\n",
       "    </tr>\n",
       "  </tbody>\n",
       "</table>\n",
       "</div>"
      ],
      "text/plain": [
       "                                          cleaned_title  \\\n",
       "1175        Bug Tracking Jira: Jira Software/QA Testers   \n",
       "4349  Learning Path: Frontend Web Development Bootst...   \n",
       "5480  LEARNING PATH: Game Development GameMaker Stud...   \n",
       "6995                             C++ Programming Basics   \n",
       "2051  iOS App Development Complete & Utter Coding Be...   \n",
       "9081       Create Members Blog using PHP, MySQL, & AJAX   \n",
       "8133  Selenium Webdriver Cucumber BDD Automation Fra...   \n",
       "9038  Complete Datatable Tutorial CodeIgniter Framework   \n",
       "1611    eCommerce: Create eCommerce Site Without Coding   \n",
       "5147  LEARNING PATH: ElasticSearch: ElasticSearch 5....   \n",
       "\n",
       "                                            course_name  \n",
       "1175  Bug Tracking with Jira: Jira for Software/QA T...  \n",
       "4349  Learning Path: Frontend Web Development with B...  \n",
       "5480  LEARNING PATH: Game Development with GameMaker...  \n",
       "6995                             C++ Programming Basics  \n",
       "2051  iOS App Development For Complete & Utter Codin...  \n",
       "9081  Create a Members Only Blog using PHP, MySQL, &...  \n",
       "8133  Selenium Webdriver with Cucumber BDD Automatio...  \n",
       "9038  Complete Datatable Tutorial with CodeIgniter F...  \n",
       "1611  eCommerce: Create Your Own eCommerce Site With...  \n",
       "5147  LEARNING PATH: ElasticSearch: ElasticSearch 5....  "
      ]
     },
     "execution_count": 58,
     "metadata": {},
     "output_type": "execute_result"
    }
   ],
   "source": [
    "#compare course name before and after removing stopwords - specify words like \"git\",\"c++\" to not remove\n",
    "tempDF =  df_course[['cleaned_title','course_name']]\n",
    "tempDF.sample(10)"
   ]
  },
  {
   "cell_type": "code",
   "execution_count": 60,
   "id": "2c2abda8",
   "metadata": {},
   "outputs": [],
   "source": [
    "# finding the maximum length of the clean title\n",
    "# tempDF[tempDF['cleaned_title'].str.len()==max(tempDF['cleaned_title'].absstr.len())]\n",
    "\n",
    "texts = df_course['cleaned_title']"
   ]
  },
  {
   "cell_type": "code",
   "execution_count": 63,
   "id": "b913822a",
   "metadata": {
    "scrolled": false
   },
   "outputs": [],
   "source": [
    "def special_char_check(text: str) -> bool:\n",
    "    # Check if any character in the text is not alphanumeric and not a space\n",
    "    return any(not c.isalnum() and not c.isspace() for c in text)\n",
    "special_text_list = []   \n",
    "if __name__ == '__main__':\n",
    " \n",
    "    for text in texts:\n",
    "        if special_char_check(text):\n",
    "            special_text_list.append(text)\n"
   ]
  },
  {
   "cell_type": "code",
   "execution_count": 65,
   "id": "4bdb49fa",
   "metadata": {},
   "outputs": [
    {
     "data": {
      "text/plain": [
       "5515"
      ]
     },
     "execution_count": 65,
     "metadata": {},
     "output_type": "execute_result"
    }
   ],
   "source": [
    "#we have 5515 courses with special names. \n",
    "len(special_text_list)"
   ]
  },
  {
   "cell_type": "code",
   "execution_count": null,
   "id": "05bdfaac",
   "metadata": {},
   "outputs": [],
   "source": [
    "alltokens = [token for line in every_title for token in line.split()]\n",
    "\n",
    "print(len(alltokens))\n",
    "\n",
    "print(alltokens[1:4])"
   ]
  },
  {
   "cell_type": "code",
   "execution_count": 71,
   "id": "7dd3761d",
   "metadata": {},
   "outputs": [
    {
     "data": {
      "text/plain": [
       "{'-': 1421,\n",
       " 'Learn': 1129,\n",
       " '&': 867,\n",
       " 'Complete': 714,\n",
       " 'Development': 688,\n",
       " 'Build': 664,\n",
       " 'Python': 657,\n",
       " 'Programming': 638,\n",
       " 'Beginners': 607,\n",
       " 'Web': 570,\n",
       " 'Course': 515,\n",
       " 'Java': 488,\n",
       " 'Learning': 441,\n",
       " 'JavaScript': 404,\n",
       " 'App': 394,\n",
       " 'Game': 377,\n",
       " 'Data': 354,\n",
       " 'Create': 335,\n",
       " 'Android': 318,\n",
       " 'Apps': 316}"
      ]
     },
     "execution_count": 71,
     "metadata": {},
     "output_type": "execute_result"
    }
   ],
   "source": [
    "'''\n",
    "The code below checks for the most popular tokens in our courses name \n",
    "'''\n",
    "#Append all titles with stopwords removed into a list\n",
    "every_title  = df_course['cleaned_title'].to_list()\n",
    "\n",
    "# Initialize an empty list to store all tokens\n",
    "alltokens = []\n",
    "\n",
    "# Tokenize each line and add tokens to the alltokens list\n",
    "for line in every_title:\n",
    "    tokens = line.split()  # Split the line into tokens\n",
    "    alltokens.extend(tokens)  # Add tokens to the alltokens list\n",
    "\n",
    "#check the top used words - things like with, from, 'With', 'From'- removed. \n",
    "from collections import Counter\n",
    "\n",
    "freq_words = dict(Counter(alltokens).most_common(20))\n",
    "\n",
    "freq_words"
   ]
  },
  {
   "cell_type": "code",
   "execution_count": 74,
   "id": "d1f46008",
   "metadata": {
    "scrolled": true
   },
   "outputs": [
    {
     "data": {
      "image/png": "[encoded data removed]",
      "text/plain": [
       "<Figure size 2160x1440 with 1 Axes>"
      ]
     },
     "metadata": {},
     "output_type": "display_data"
    }
   ],
   "source": [
    "#visualize the most words\n",
    "# Convert the dictionary to a DataFrame \n",
    "df = pd.DataFrame(freq_words.items(), columns=['Frequent Words', 'Count'])\n",
    "\n",
    "# Set the Seaborn theme \n",
    "sns.set_theme()\n",
    "\n",
    "# Create a bar plot\n",
    "plt.figure(figsize=(30, 20))\n",
    "sns.barplot(data=df, x='Frequent Words', y='Count')\n",
    "\n",
    "# Customize plot\n",
    "plt.xticks(rotation=45, fontsize=20, fontweight='bold')\n",
    "plt.yticks(fontsize=15, fontweight='bold')\n",
    "plt.xlabel('Frequent Words', fontsize=25, fontweight='bold', color='green')\n",
    "plt.ylabel('Frequent Words Count', fontsize=25, fontweight='bold', color='green')\n",
    "\n",
    "# Display the plot\n",
    "plt.show()"
   ]
  },
  {
   "cell_type": "markdown",
   "id": "53a19cad",
   "metadata": {},
   "source": [
    "### TOKENIZATION"
   ]
  },
  {
   "cell_type": "code",
   "execution_count": 34,
   "id": "58c71004",
   "metadata": {},
   "outputs": [
    {
     "name": "stderr",
     "output_type": "stream",
     "text": [
      "[nltk_data] Downloading package punkt to\n",
      "[nltk_data]     C:\\Users\\abdul\\AppData\\Roaming\\nltk_data...\n",
      "[nltk_data]   Unzipping tokenizers\\punkt.zip.\n",
      "[nltk_data] Downloading package wordnet to\n",
      "[nltk_data]     C:\\Users\\abdul\\AppData\\Roaming\\nltk_data...\n",
      "[nltk_data] Downloading package omw-1.4 to\n",
      "[nltk_data]     C:\\Users\\abdul\\AppData\\Roaming\\nltk_data...\n"
     ]
    },
    {
     "data": {
      "text/plain": [
       "True"
      ]
     },
     "execution_count": 34,
     "metadata": {},
     "output_type": "execute_result"
    }
   ],
   "source": [
    "nltk.download('punkt')\n",
    "nltk.download('wordnet')\n",
    "nltk.download('omw-1.4')"
   ]
  },
  {
   "cell_type": "code",
   "execution_count": 88,
   "id": "bd0cf3a8",
   "metadata": {},
   "outputs": [],
   "source": [
    "rake = Rake()\n",
    "allwords = ''.join(alltokens)\n",
    "\n",
    "rake.extract_keywords_from_text(allwords)\n",
    "rake.get_ranked_phrases_with_scores()"
   ]
  },
  {
   "cell_type": "code",
   "execution_count": 93,
   "id": "6e168e97",
   "metadata": {},
   "outputs": [
    {
     "data": {
      "text/plain": [
       "<9243x4226 sparse matrix of type '<class 'numpy.int64'>'\n",
       "\twith 47206 stored elements in Compressed Sparse Row format>"
      ]
     },
     "execution_count": 93,
     "metadata": {},
     "output_type": "execute_result"
    }
   ],
   "source": [
    "# vectorizing the course_title - collaborative filtering mechanism\n",
    "\n",
    "countvect = CountVectorizer()\n",
    "\n",
    "cv_mat = countvect.fit_transform(df_course['cleaned_title'])\n",
    "\n",
    "cv_mat.todense()"
   ]
  },
  {
   "cell_type": "markdown",
   "id": "e7e16380",
   "metadata": {},
   "source": [
    "#### There are foreign words in my dataset, gotta take note"
   ]
  },
  {
   "cell_type": "code",
   "execution_count": 95,
   "id": "2aee3bbe",
   "metadata": {},
   "outputs": [
    {
     "data": {
      "text/html": [
       "<div>\n",
       "<style scoped>\n",
       "    .dataframe tbody tr th:only-of-type {\n",
       "        vertical-align: middle;\n",
       "    }\n",
       "\n",
       "    .dataframe tbody tr th {\n",
       "        vertical-align: top;\n",
       "    }\n",
       "\n",
       "    .dataframe thead th {\n",
       "        text-align: right;\n",
       "    }\n",
       "</style>\n",
       "<table border=\"1\" class=\"dataframe\">\n",
       "  <thead>\n",
       "    <tr style=\"text-align: right;\">\n",
       "      <th></th>\n",
       "      <th>00</th>\n",
       "      <th>000</th>\n",
       "      <th>04</th>\n",
       "      <th>061</th>\n",
       "      <th>071</th>\n",
       "      <th>072</th>\n",
       "      <th>10</th>\n",
       "      <th>100</th>\n",
       "      <th>1000</th>\n",
       "      <th>101</th>\n",
       "      <th>...</th>\n",
       "      <th>zombies</th>\n",
       "      <th>zookeeper</th>\n",
       "      <th>zurb</th>\n",
       "      <th>zynq</th>\n",
       "      <th>الأول</th>\n",
       "      <th>الجزء</th>\n",
       "      <th>الصناعي</th>\n",
       "      <th>توجاف</th>\n",
       "      <th>لمحترف</th>\n",
       "      <th>مبتدئ</th>\n",
       "    </tr>\n",
       "  </thead>\n",
       "  <tbody>\n",
       "    <tr>\n",
       "      <th>0</th>\n",
       "      <td>0</td>\n",
       "      <td>0</td>\n",
       "      <td>0</td>\n",
       "      <td>0</td>\n",
       "      <td>0</td>\n",
       "      <td>0</td>\n",
       "      <td>0</td>\n",
       "      <td>0</td>\n",
       "      <td>0</td>\n",
       "      <td>0</td>\n",
       "      <td>...</td>\n",
       "      <td>0</td>\n",
       "      <td>0</td>\n",
       "      <td>0</td>\n",
       "      <td>0</td>\n",
       "      <td>0</td>\n",
       "      <td>0</td>\n",
       "      <td>0</td>\n",
       "      <td>0</td>\n",
       "      <td>0</td>\n",
       "      <td>0</td>\n",
       "    </tr>\n",
       "    <tr>\n",
       "      <th>1</th>\n",
       "      <td>0</td>\n",
       "      <td>0</td>\n",
       "      <td>0</td>\n",
       "      <td>0</td>\n",
       "      <td>0</td>\n",
       "      <td>0</td>\n",
       "      <td>0</td>\n",
       "      <td>0</td>\n",
       "      <td>0</td>\n",
       "      <td>0</td>\n",
       "      <td>...</td>\n",
       "      <td>0</td>\n",
       "      <td>0</td>\n",
       "      <td>0</td>\n",
       "      <td>0</td>\n",
       "      <td>0</td>\n",
       "      <td>0</td>\n",
       "      <td>0</td>\n",
       "      <td>0</td>\n",
       "      <td>0</td>\n",
       "      <td>0</td>\n",
       "    </tr>\n",
       "    <tr>\n",
       "      <th>2</th>\n",
       "      <td>0</td>\n",
       "      <td>0</td>\n",
       "      <td>0</td>\n",
       "      <td>0</td>\n",
       "      <td>0</td>\n",
       "      <td>0</td>\n",
       "      <td>0</td>\n",
       "      <td>0</td>\n",
       "      <td>0</td>\n",
       "      <td>0</td>\n",
       "      <td>...</td>\n",
       "      <td>0</td>\n",
       "      <td>0</td>\n",
       "      <td>0</td>\n",
       "      <td>0</td>\n",
       "      <td>0</td>\n",
       "      <td>0</td>\n",
       "      <td>0</td>\n",
       "      <td>0</td>\n",
       "      <td>0</td>\n",
       "      <td>0</td>\n",
       "    </tr>\n",
       "    <tr>\n",
       "      <th>3</th>\n",
       "      <td>0</td>\n",
       "      <td>0</td>\n",
       "      <td>0</td>\n",
       "      <td>0</td>\n",
       "      <td>0</td>\n",
       "      <td>0</td>\n",
       "      <td>0</td>\n",
       "      <td>0</td>\n",
       "      <td>0</td>\n",
       "      <td>0</td>\n",
       "      <td>...</td>\n",
       "      <td>0</td>\n",
       "      <td>0</td>\n",
       "      <td>0</td>\n",
       "      <td>0</td>\n",
       "      <td>0</td>\n",
       "      <td>0</td>\n",
       "      <td>0</td>\n",
       "      <td>0</td>\n",
       "      <td>0</td>\n",
       "      <td>0</td>\n",
       "    </tr>\n",
       "    <tr>\n",
       "      <th>4</th>\n",
       "      <td>0</td>\n",
       "      <td>0</td>\n",
       "      <td>0</td>\n",
       "      <td>0</td>\n",
       "      <td>0</td>\n",
       "      <td>0</td>\n",
       "      <td>0</td>\n",
       "      <td>0</td>\n",
       "      <td>0</td>\n",
       "      <td>0</td>\n",
       "      <td>...</td>\n",
       "      <td>0</td>\n",
       "      <td>0</td>\n",
       "      <td>0</td>\n",
       "      <td>0</td>\n",
       "      <td>0</td>\n",
       "      <td>0</td>\n",
       "      <td>0</td>\n",
       "      <td>0</td>\n",
       "      <td>0</td>\n",
       "      <td>0</td>\n",
       "    </tr>\n",
       "    <tr>\n",
       "      <th>...</th>\n",
       "      <td>...</td>\n",
       "      <td>...</td>\n",
       "      <td>...</td>\n",
       "      <td>...</td>\n",
       "      <td>...</td>\n",
       "      <td>...</td>\n",
       "      <td>...</td>\n",
       "      <td>...</td>\n",
       "      <td>...</td>\n",
       "      <td>...</td>\n",
       "      <td>...</td>\n",
       "      <td>...</td>\n",
       "      <td>...</td>\n",
       "      <td>...</td>\n",
       "      <td>...</td>\n",
       "      <td>...</td>\n",
       "      <td>...</td>\n",
       "      <td>...</td>\n",
       "      <td>...</td>\n",
       "      <td>...</td>\n",
       "      <td>...</td>\n",
       "    </tr>\n",
       "    <tr>\n",
       "      <th>9238</th>\n",
       "      <td>0</td>\n",
       "      <td>0</td>\n",
       "      <td>0</td>\n",
       "      <td>0</td>\n",
       "      <td>0</td>\n",
       "      <td>0</td>\n",
       "      <td>0</td>\n",
       "      <td>0</td>\n",
       "      <td>0</td>\n",
       "      <td>0</td>\n",
       "      <td>...</td>\n",
       "      <td>0</td>\n",
       "      <td>0</td>\n",
       "      <td>0</td>\n",
       "      <td>0</td>\n",
       "      <td>0</td>\n",
       "      <td>0</td>\n",
       "      <td>0</td>\n",
       "      <td>0</td>\n",
       "      <td>0</td>\n",
       "      <td>0</td>\n",
       "    </tr>\n",
       "    <tr>\n",
       "      <th>9239</th>\n",
       "      <td>0</td>\n",
       "      <td>0</td>\n",
       "      <td>0</td>\n",
       "      <td>0</td>\n",
       "      <td>0</td>\n",
       "      <td>0</td>\n",
       "      <td>0</td>\n",
       "      <td>0</td>\n",
       "      <td>0</td>\n",
       "      <td>0</td>\n",
       "      <td>...</td>\n",
       "      <td>0</td>\n",
       "      <td>0</td>\n",
       "      <td>0</td>\n",
       "      <td>0</td>\n",
       "      <td>0</td>\n",
       "      <td>0</td>\n",
       "      <td>0</td>\n",
       "      <td>0</td>\n",
       "      <td>0</td>\n",
       "      <td>0</td>\n",
       "    </tr>\n",
       "    <tr>\n",
       "      <th>9240</th>\n",
       "      <td>0</td>\n",
       "      <td>0</td>\n",
       "      <td>0</td>\n",
       "      <td>0</td>\n",
       "      <td>0</td>\n",
       "      <td>0</td>\n",
       "      <td>0</td>\n",
       "      <td>0</td>\n",
       "      <td>0</td>\n",
       "      <td>0</td>\n",
       "      <td>...</td>\n",
       "      <td>0</td>\n",
       "      <td>0</td>\n",
       "      <td>0</td>\n",
       "      <td>0</td>\n",
       "      <td>0</td>\n",
       "      <td>0</td>\n",
       "      <td>0</td>\n",
       "      <td>0</td>\n",
       "      <td>0</td>\n",
       "      <td>0</td>\n",
       "    </tr>\n",
       "    <tr>\n",
       "      <th>9241</th>\n",
       "      <td>0</td>\n",
       "      <td>0</td>\n",
       "      <td>0</td>\n",
       "      <td>0</td>\n",
       "      <td>0</td>\n",
       "      <td>0</td>\n",
       "      <td>0</td>\n",
       "      <td>0</td>\n",
       "      <td>0</td>\n",
       "      <td>0</td>\n",
       "      <td>...</td>\n",
       "      <td>0</td>\n",
       "      <td>0</td>\n",
       "      <td>0</td>\n",
       "      <td>0</td>\n",
       "      <td>0</td>\n",
       "      <td>0</td>\n",
       "      <td>0</td>\n",
       "      <td>0</td>\n",
       "      <td>0</td>\n",
       "      <td>0</td>\n",
       "    </tr>\n",
       "    <tr>\n",
       "      <th>9242</th>\n",
       "      <td>0</td>\n",
       "      <td>0</td>\n",
       "      <td>0</td>\n",
       "      <td>0</td>\n",
       "      <td>0</td>\n",
       "      <td>0</td>\n",
       "      <td>0</td>\n",
       "      <td>0</td>\n",
       "      <td>0</td>\n",
       "      <td>0</td>\n",
       "      <td>...</td>\n",
       "      <td>0</td>\n",
       "      <td>0</td>\n",
       "      <td>0</td>\n",
       "      <td>0</td>\n",
       "      <td>0</td>\n",
       "      <td>0</td>\n",
       "      <td>0</td>\n",
       "      <td>0</td>\n",
       "      <td>0</td>\n",
       "      <td>0</td>\n",
       "    </tr>\n",
       "  </tbody>\n",
       "</table>\n",
       "<p>9243 rows × 4226 columns</p>\n",
       "</div>"
      ],
      "text/plain": [
       "      00  000  04  061  071  072  10  100  1000  101  ...  zombies  zookeeper  \\\n",
       "0      0    0   0    0    0    0   0    0     0    0  ...        0          0   \n",
       "1      0    0   0    0    0    0   0    0     0    0  ...        0          0   \n",
       "2      0    0   0    0    0    0   0    0     0    0  ...        0          0   \n",
       "3      0    0   0    0    0    0   0    0     0    0  ...        0          0   \n",
       "4      0    0   0    0    0    0   0    0     0    0  ...        0          0   \n",
       "...   ..  ...  ..  ...  ...  ...  ..  ...   ...  ...  ...      ...        ...   \n",
       "9238   0    0   0    0    0    0   0    0     0    0  ...        0          0   \n",
       "9239   0    0   0    0    0    0   0    0     0    0  ...        0          0   \n",
       "9240   0    0   0    0    0    0   0    0     0    0  ...        0          0   \n",
       "9241   0    0   0    0    0    0   0    0     0    0  ...        0          0   \n",
       "9242   0    0   0    0    0    0   0    0     0    0  ...        0          0   \n",
       "\n",
       "      zurb  zynq  الأول  الجزء  الصناعي  توجاف  لمحترف  مبتدئ  \n",
       "0        0     0      0      0        0      0       0      0  \n",
       "1        0     0      0      0        0      0       0      0  \n",
       "2        0     0      0      0        0      0       0      0  \n",
       "3        0     0      0      0        0      0       0      0  \n",
       "4        0     0      0      0        0      0       0      0  \n",
       "...    ...   ...    ...    ...      ...    ...     ...    ...  \n",
       "9238     0     0      0      0        0      0       0      0  \n",
       "9239     0     0      0      0        0      0       0      0  \n",
       "9240     0     0      0      0        0      0       0      0  \n",
       "9241     0     0      0      0        0      0       0      0  \n",
       "9242     0     0      0      0        0      0       0      0  \n",
       "\n",
       "[9243 rows x 4226 columns]"
      ]
     },
     "execution_count": 95,
     "metadata": {},
     "output_type": "execute_result"
    }
   ],
   "source": [
    "df_cv_words = pd.DataFrame(cv_mat.todense(),columns=countvect.get_feature_names())\n",
    "\n",
    "df_cv_words"
   ]
  },
  {
   "cell_type": "code",
   "execution_count": 96,
   "id": "61719daf",
   "metadata": {},
   "outputs": [
    {
     "data": {
      "text/plain": [
       "array([[1.        , 0.        , 0.        , ..., 0.23570226, 0.        ,\n",
       "        0.        ],\n",
       "       [0.        , 1.        , 0.        , ..., 0.20412415, 0.        ,\n",
       "        0.28867513],\n",
       "       [0.        , 0.        , 1.        , ..., 0.        , 0.        ,\n",
       "        0.        ],\n",
       "       ...,\n",
       "       [0.23570226, 0.20412415, 0.        , ..., 1.        , 0.23570226,\n",
       "        0.23570226],\n",
       "       [0.        , 0.        , 0.        , ..., 0.23570226, 1.        ,\n",
       "        0.33333333],\n",
       "       [0.        , 0.28867513, 0.        , ..., 0.23570226, 0.33333333,\n",
       "        1.        ]])"
      ]
     },
     "execution_count": 96,
     "metadata": {},
     "output_type": "execute_result"
    }
   ],
   "source": [
    "# cosine similarity matrix\n",
    "\n",
    "cosine_sim_mat = cosine_similarity(cv_mat)\n",
    "\n",
    "cosine_sim_mat"
   ]
  },
  {
   "cell_type": "code",
   "execution_count": 97,
   "id": "a7a2bd13",
   "metadata": {},
   "outputs": [],
   "source": [
    "course_index_list = pd.Series(df_course.index,index = df_course['course_name']).drop_duplicates()"
   ]
  },
  {
   "cell_type": "code",
   "execution_count": 101,
   "id": "52ec7d8e",
   "metadata": {},
   "outputs": [
    {
     "data": {
      "text/plain": [
       "pandas.core.series.Series"
      ]
     },
     "execution_count": 101,
     "metadata": {},
     "output_type": "execute_result"
    }
   ],
   "source": [
    "type(course_index_list)"
   ]
  },
  {
   "cell_type": "code",
   "execution_count": 106,
   "id": "d688b330",
   "metadata": {},
   "outputs": [
    {
     "name": "stdout",
     "output_type": "stream",
     "text": [
      "['Data Structures and Algorithms using c++']\n"
     ]
    }
   ],
   "source": [
    "# a list to store the filtered course index numbers and \n",
    "# utilizes a dictionary to associate course keys with their names.\n",
    "# course_name_dict = dict(course_index_list)\n",
    "keyword = 'c++'\n",
    "filtered_courses = []\n",
    "\n",
    "for course_key in course_name_dict:\n",
    "    if keyword in course_key:\n",
    "        filtered_courses.append(course_key)\n",
    "\n",
    "print(filtered_courses)"
   ]
  },
  {
   "cell_type": "code",
   "execution_count": 111,
   "id": "f4e8c509",
   "metadata": {},
   "outputs": [
    {
     "data": {
      "text/html": [
       "<div>\n",
       "<style scoped>\n",
       "    .dataframe tbody tr th:only-of-type {\n",
       "        vertical-align: middle;\n",
       "    }\n",
       "\n",
       "    .dataframe tbody tr th {\n",
       "        vertical-align: top;\n",
       "    }\n",
       "\n",
       "    .dataframe thead th {\n",
       "        text-align: right;\n",
       "    }\n",
       "</style>\n",
       "<table border=\"1\" class=\"dataframe\">\n",
       "  <thead>\n",
       "    <tr style=\"text-align: right;\">\n",
       "      <th></th>\n",
       "      <th>course_id</th>\n",
       "      <th>course_name</th>\n",
       "      <th>subs</th>\n",
       "      <th>num_reviews</th>\n",
       "      <th>num_lectures</th>\n",
       "      <th>duration</th>\n",
       "      <th>last_update</th>\n",
       "      <th>publish_date</th>\n",
       "      <th>created_date</th>\n",
       "      <th>original_price</th>\n",
       "      <th>discount_price</th>\n",
       "      <th>level</th>\n",
       "      <th>label</th>\n",
       "      <th>cleaned_title</th>\n",
       "    </tr>\n",
       "  </thead>\n",
       "  <tbody>\n",
       "    <tr>\n",
       "      <th>0</th>\n",
       "      <td>8082</td>\n",
       "      <td>Ruby Programming for Beginners</td>\n",
       "      <td>28445</td>\n",
       "      <td>643</td>\n",
       "      <td>56</td>\n",
       "      <td>6.0</td>\n",
       "      <td>2019-08-21</td>\n",
       "      <td>2011-08-07 21:32:00</td>\n",
       "      <td>2011-06-14 16:09:00</td>\n",
       "      <td>1050000</td>\n",
       "      <td>182000.0</td>\n",
       "      <td>All Levels</td>\n",
       "      <td>Ruby</td>\n",
       "      <td>Ruby Programming Beginners</td>\n",
       "    </tr>\n",
       "  </tbody>\n",
       "</table>\n",
       "</div>"
      ],
      "text/plain": [
       "  course_id                     course_name   subs  num_reviews  num_lectures  \\\n",
       "0      8082  Ruby Programming for Beginners  28445          643            56   \n",
       "\n",
       "   duration last_update        publish_date        created_date  \\\n",
       "0       6.0  2019-08-21 2011-08-07 21:32:00 2011-06-14 16:09:00   \n",
       "\n",
       "   original_price  discount_price       level label  \\\n",
       "0         1050000        182000.0  All Levels  Ruby   \n",
       "\n",
       "                cleaned_title  \n",
       "0  Ruby Programming Beginners  "
      ]
     },
     "execution_count": 111,
     "metadata": {},
     "output_type": "execute_result"
    }
   ],
   "source": [
    "df_course.head(1)"
   ]
  },
  {
   "cell_type": "code",
   "execution_count": 113,
   "id": "16c0df3b",
   "metadata": {},
   "outputs": [
    {
     "name": "stderr",
     "output_type": "stream",
     "text": [
      "C:\\Users\\abdul\\AppData\\Local\\Temp/ipykernel_10848/3854321429.py:13: SettingWithCopyWarning: \n",
      "A value is trying to be set on a copy of a slice from a DataFrame.\n",
      "Try using .loc[row_indexer,col_indexer] = value instead\n",
      "\n",
      "See the caveats in the documentation: https://pandas.pydata.org/pandas-docs/stable/user_guide/indexing.html#returning-a-view-versus-a-copy\n",
      "  rec_df['Similarity_Score'] = scores[selected_course_indices]\n"
     ]
    },
    {
     "data": {
      "text/html": [
       "<div>\n",
       "<style scoped>\n",
       "    .dataframe tbody tr th:only-of-type {\n",
       "        vertical-align: middle;\n",
       "    }\n",
       "\n",
       "    .dataframe tbody tr th {\n",
       "        vertical-align: top;\n",
       "    }\n",
       "\n",
       "    .dataframe thead th {\n",
       "        text-align: right;\n",
       "    }\n",
       "</style>\n",
       "<table border=\"1\" class=\"dataframe\">\n",
       "  <thead>\n",
       "    <tr style=\"text-align: right;\">\n",
       "      <th></th>\n",
       "      <th>cleaned_title</th>\n",
       "      <th>Similarity_Score</th>\n",
       "      <th>level</th>\n",
       "      <th>duration</th>\n",
       "      <th>subs</th>\n",
       "    </tr>\n",
       "  </thead>\n",
       "  <tbody>\n",
       "    <tr>\n",
       "      <th>3</th>\n",
       "      <td>Javascript Beginners</td>\n",
       "      <td>1.000000</td>\n",
       "      <td>All Levels</td>\n",
       "      <td>3.00</td>\n",
       "      <td>3840</td>\n",
       "    </tr>\n",
       "    <tr>\n",
       "      <th>2227</th>\n",
       "      <td>JavaScript Beginners</td>\n",
       "      <td>1.000000</td>\n",
       "      <td>Beginner</td>\n",
       "      <td>3.50</td>\n",
       "      <td>91</td>\n",
       "    </tr>\n",
       "    <tr>\n",
       "      <th>2245</th>\n",
       "      <td>JavaScript programming: JavaScript beginners</td>\n",
       "      <td>0.866025</td>\n",
       "      <td>Beginner</td>\n",
       "      <td>5.00</td>\n",
       "      <td>2621</td>\n",
       "    </tr>\n",
       "    <tr>\n",
       "      <th>5925</th>\n",
       "      <td>JavaScript Projects JavaScript Beginners</td>\n",
       "      <td>0.866025</td>\n",
       "      <td>Beginner</td>\n",
       "      <td>7.50</td>\n",
       "      <td>3258</td>\n",
       "    </tr>\n",
       "    <tr>\n",
       "      <th>6690</th>\n",
       "      <td>JavaScript Basics Beginners</td>\n",
       "      <td>0.816497</td>\n",
       "      <td>Beginner</td>\n",
       "      <td>6.50</td>\n",
       "      <td>8034</td>\n",
       "    </tr>\n",
       "    <tr>\n",
       "      <th>4391</th>\n",
       "      <td>JavaScript beginners Students</td>\n",
       "      <td>0.816497</td>\n",
       "      <td>Beginner</td>\n",
       "      <td>1.50</td>\n",
       "      <td>12054</td>\n",
       "    </tr>\n",
       "    <tr>\n",
       "      <th>7303</th>\n",
       "      <td>GraphQL beginners JavaScript</td>\n",
       "      <td>0.816497</td>\n",
       "      <td>Beginner</td>\n",
       "      <td>5.50</td>\n",
       "      <td>1113</td>\n",
       "    </tr>\n",
       "    <tr>\n",
       "      <th>6302</th>\n",
       "      <td>JavaScript beginners - learn</td>\n",
       "      <td>0.816497</td>\n",
       "      <td>All Levels</td>\n",
       "      <td>3.50</td>\n",
       "      <td>2992</td>\n",
       "    </tr>\n",
       "    <tr>\n",
       "      <th>2824</th>\n",
       "      <td>Javascript :basics beginners</td>\n",
       "      <td>0.816497</td>\n",
       "      <td>Beginner</td>\n",
       "      <td>0.62</td>\n",
       "      <td>1058</td>\n",
       "    </tr>\n",
       "    <tr>\n",
       "      <th>6326</th>\n",
       "      <td>Javascript Beginners Course</td>\n",
       "      <td>0.816497</td>\n",
       "      <td>Beginner</td>\n",
       "      <td>1.50</td>\n",
       "      <td>3725</td>\n",
       "    </tr>\n",
       "  </tbody>\n",
       "</table>\n",
       "</div>"
      ],
      "text/plain": [
       "                                     cleaned_title  Similarity_Score  \\\n",
       "3                             Javascript Beginners          1.000000   \n",
       "2227                          JavaScript Beginners          1.000000   \n",
       "2245  JavaScript programming: JavaScript beginners          0.866025   \n",
       "5925      JavaScript Projects JavaScript Beginners          0.866025   \n",
       "6690                   JavaScript Basics Beginners          0.816497   \n",
       "4391                 JavaScript beginners Students          0.816497   \n",
       "7303                  GraphQL beginners JavaScript          0.816497   \n",
       "6302                  JavaScript beginners - learn          0.816497   \n",
       "2824                  Javascript :basics beginners          0.816497   \n",
       "6326                   Javascript Beginners Course          0.816497   \n",
       "\n",
       "           level  duration   subs  \n",
       "3     All Levels      3.00   3840  \n",
       "2227    Beginner      3.50     91  \n",
       "2245    Beginner      5.00   2621  \n",
       "5925    Beginner      7.50   3258  \n",
       "6690    Beginner      6.50   8034  \n",
       "4391    Beginner      1.50  12054  \n",
       "7303    Beginner      5.50   1113  \n",
       "6302  All Levels      3.50   2992  \n",
       "2824    Beginner      0.62   1058  \n",
       "6326    Beginner      1.50   3725  "
      ]
     },
     "execution_count": 113,
     "metadata": {},
     "output_type": "execute_result"
    }
   ],
   "source": [
    "'''This code recommends courses using cosine similarity\n",
    "'''\n",
    "def recommend_course(title, numrec=10):\n",
    "    course_index = pd.Series(df_course.index, index=df_course['cleaned_title']).drop_duplicates()\n",
    "    index = course_index[title]\n",
    "\n",
    "    scores = cosine_sim_mat[index]\n",
    "    sorted_indices = np.argsort(scores)[::-1]  # Sort in descending order\n",
    "\n",
    "    selected_course_indices = sorted_indices[1:numrec + 1]  # Exclude the selected course\n",
    "\n",
    "    rec_df = df_course.iloc[selected_course_indices]\n",
    "    rec_df['Similarity_Score'] = scores[selected_course_indices]\n",
    "\n",
    "    final_recommended_courses = rec_df[[\n",
    "        'cleaned_title', 'Similarity_Score', 'level', 'duration', 'subs']]\n",
    "\n",
    "    return final_recommended_courses\n",
    "\n",
    "# Call the function with the desired course title and number of recommendations\n",
    "recommended_courses = recommend_course('Javascript Beginners', numrec=10)\n",
    "recommended_courses\n"
   ]
  },
  {
   "cell_type": "code",
   "execution_count": null,
   "id": "4071ffc8",
   "metadata": {},
   "outputs": [],
   "source": [
    "#why use cosine or linear similarity?"
   ]
  }
 ],
 "metadata": {
  "kernelspec": {
   "display_name": "Python 3 (ipykernel)",
   "language": "python",
   "name": "python3"
  },
  "language_info": {
   "codemirror_mode": {
    "name": "ipython",
    "version": 3
   },
   "file_extension": ".py",
   "mimetype": "text/x-python",
   "name": "python",
   "nbconvert_exporter": "python",
   "pygments_lexer": "ipython3",
   "version": "3.9.7"
  }
 },
 "nbformat": 4,
 "nbformat_minor": 5
}
